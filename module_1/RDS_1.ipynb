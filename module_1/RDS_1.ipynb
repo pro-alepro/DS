{
 "cells": [
  {
   "cell_type": "code",
   "execution_count": 2,
   "metadata": {
    "_cell_guid": "b1076dfc-b9ad-4769-8c92-a6c4dae69d19",
    "_uuid": "8f2839f25d086af736a60e9eeb907d3b93b6e0e5",
    "colab": {},
    "colab_type": "code",
    "id": "U2D2gTdJVp90"
   },
   "outputs": [],
   "source": [
    "import numpy as np\n",
    "import pandas as pd\n",
    "import seaborn as sns\n",
    "import matplotlib.pyplot as plt\n",
    "from collections import Counter"
   ]
  },
  {
   "cell_type": "code",
   "execution_count": 3,
   "metadata": {
    "_cell_guid": "79c7e3d0-c299-4dcb-8224-4455121ee9b0",
    "_uuid": "d629ff2d2480ee46fbb7e2d37f6b5fab8052498a",
    "colab": {},
    "colab_type": "code",
    "id": "oyGfxL3eVp9-"
   },
   "outputs": [
    {
     "data": {
      "text/html": [
       "<div>\n",
       "<style scoped>\n",
       "    .dataframe tbody tr th:only-of-type {\n",
       "        vertical-align: middle;\n",
       "    }\n",
       "\n",
       "    .dataframe tbody tr th {\n",
       "        vertical-align: top;\n",
       "    }\n",
       "\n",
       "    .dataframe thead th {\n",
       "        text-align: right;\n",
       "    }\n",
       "</style>\n",
       "<table border=\"1\" class=\"dataframe\">\n",
       "  <thead>\n",
       "    <tr style=\"text-align: right;\">\n",
       "      <th></th>\n",
       "      <th>imdb_id</th>\n",
       "      <th>budget</th>\n",
       "      <th>revenue</th>\n",
       "      <th>original_title</th>\n",
       "      <th>cast</th>\n",
       "      <th>director</th>\n",
       "      <th>tagline</th>\n",
       "      <th>overview</th>\n",
       "      <th>runtime</th>\n",
       "      <th>genres</th>\n",
       "      <th>production_companies</th>\n",
       "      <th>release_date</th>\n",
       "      <th>vote_average</th>\n",
       "      <th>release_year</th>\n",
       "    </tr>\n",
       "  </thead>\n",
       "  <tbody>\n",
       "    <tr>\n",
       "      <td>300</td>\n",
       "      <td>tt1155056</td>\n",
       "      <td>41000000</td>\n",
       "      <td>91636986</td>\n",
       "      <td>I Love You, Man</td>\n",
       "      <td>Paul Rudd|Rashida Jones|Jason Segel|Sarah Burn...</td>\n",
       "      <td>John Hamburg</td>\n",
       "      <td>Are You Man Enough To Say It?</td>\n",
       "      <td>Peter Klaven is a successful real estate agent...</td>\n",
       "      <td>105</td>\n",
       "      <td>Comedy</td>\n",
       "      <td>DreamWorks SKG|The Montecito Picture Company|D...</td>\n",
       "      <td>3/20/2009</td>\n",
       "      <td>6.4</td>\n",
       "      <td>2009</td>\n",
       "    </tr>\n",
       "    <tr>\n",
       "      <td>25</td>\n",
       "      <td>tt2381249</td>\n",
       "      <td>150000000</td>\n",
       "      <td>682330139</td>\n",
       "      <td>Mission: Impossible - Rogue Nation</td>\n",
       "      <td>Tom Cruise|Jeremy Renner|Simon Pegg|Rebecca Fe...</td>\n",
       "      <td>Christopher McQuarrie</td>\n",
       "      <td>Desperate Times. Desperate Measures.</td>\n",
       "      <td>Ethan and team take on their most impossible m...</td>\n",
       "      <td>131</td>\n",
       "      <td>Action</td>\n",
       "      <td>Paramount Pictures|Skydance Productions|China ...</td>\n",
       "      <td>7/23/2015</td>\n",
       "      <td>7.1</td>\n",
       "      <td>2015</td>\n",
       "    </tr>\n",
       "    <tr>\n",
       "      <td>1174</td>\n",
       "      <td>tt0318283</td>\n",
       "      <td>30000000</td>\n",
       "      <td>15368897</td>\n",
       "      <td>Alex &amp; Emma</td>\n",
       "      <td>Luke Wilson|Kate Hudson|Sophie Marceau|David P...</td>\n",
       "      <td>Rob Reiner</td>\n",
       "      <td>Is it love... or are they just imagining things?</td>\n",
       "      <td>Writer Alex Sheldon (Luke Wilson) must finish ...</td>\n",
       "      <td>96</td>\n",
       "      <td>Comedy|Romance</td>\n",
       "      <td>Epsilon Motion Pictures|Franchise Pictures|Esc...</td>\n",
       "      <td>6/16/2003</td>\n",
       "      <td>5.0</td>\n",
       "      <td>2003</td>\n",
       "    </tr>\n",
       "    <tr>\n",
       "      <td>1036</td>\n",
       "      <td>tt1195478</td>\n",
       "      <td>30000000</td>\n",
       "      <td>53909751</td>\n",
       "      <td>The Five-Year Engagement</td>\n",
       "      <td>Emily Blunt|Alison Brie|Jason Segel|Rhys Ifans...</td>\n",
       "      <td>Nicholas Stoller</td>\n",
       "      <td>A comedy about the journey between popping the...</td>\n",
       "      <td>Exactly one year after Tom meets Violet, he su...</td>\n",
       "      <td>124</td>\n",
       "      <td>Comedy</td>\n",
       "      <td>Universal Pictures|Dentsu|Relativity Media|Apa...</td>\n",
       "      <td>4/27/2012</td>\n",
       "      <td>5.6</td>\n",
       "      <td>2012</td>\n",
       "    </tr>\n",
       "    <tr>\n",
       "      <td>1551</td>\n",
       "      <td>tt0421206</td>\n",
       "      <td>30000000</td>\n",
       "      <td>41480851</td>\n",
       "      <td>Gridiron Gang</td>\n",
       "      <td>Dwayne Johnson|Xzibit|L. Scott Caldwell|Leon R...</td>\n",
       "      <td>Phil Joanou</td>\n",
       "      <td>One goal. A second chance.</td>\n",
       "      <td>Teenagers at a juvenile detention center, unde...</td>\n",
       "      <td>125</td>\n",
       "      <td>Action|Adventure|Crime|Drama</td>\n",
       "      <td>Columbia Pictures</td>\n",
       "      <td>9/15/2006</td>\n",
       "      <td>6.5</td>\n",
       "      <td>2006</td>\n",
       "    </tr>\n",
       "  </tbody>\n",
       "</table>\n",
       "</div>"
      ],
      "text/plain": [
       "        imdb_id     budget    revenue                      original_title  \\\n",
       "300   tt1155056   41000000   91636986                     I Love You, Man   \n",
       "25    tt2381249  150000000  682330139  Mission: Impossible - Rogue Nation   \n",
       "1174  tt0318283   30000000   15368897                         Alex & Emma   \n",
       "1036  tt1195478   30000000   53909751            The Five-Year Engagement   \n",
       "1551  tt0421206   30000000   41480851                       Gridiron Gang   \n",
       "\n",
       "                                                   cast  \\\n",
       "300   Paul Rudd|Rashida Jones|Jason Segel|Sarah Burn...   \n",
       "25    Tom Cruise|Jeremy Renner|Simon Pegg|Rebecca Fe...   \n",
       "1174  Luke Wilson|Kate Hudson|Sophie Marceau|David P...   \n",
       "1036  Emily Blunt|Alison Brie|Jason Segel|Rhys Ifans...   \n",
       "1551  Dwayne Johnson|Xzibit|L. Scott Caldwell|Leon R...   \n",
       "\n",
       "                   director  \\\n",
       "300            John Hamburg   \n",
       "25    Christopher McQuarrie   \n",
       "1174             Rob Reiner   \n",
       "1036       Nicholas Stoller   \n",
       "1551            Phil Joanou   \n",
       "\n",
       "                                                tagline  \\\n",
       "300                       Are You Man Enough To Say It?   \n",
       "25                 Desperate Times. Desperate Measures.   \n",
       "1174   Is it love... or are they just imagining things?   \n",
       "1036  A comedy about the journey between popping the...   \n",
       "1551                         One goal. A second chance.   \n",
       "\n",
       "                                               overview  runtime  \\\n",
       "300   Peter Klaven is a successful real estate agent...      105   \n",
       "25    Ethan and team take on their most impossible m...      131   \n",
       "1174  Writer Alex Sheldon (Luke Wilson) must finish ...       96   \n",
       "1036  Exactly one year after Tom meets Violet, he su...      124   \n",
       "1551  Teenagers at a juvenile detention center, unde...      125   \n",
       "\n",
       "                            genres  \\\n",
       "300                         Comedy   \n",
       "25                          Action   \n",
       "1174                Comedy|Romance   \n",
       "1036                        Comedy   \n",
       "1551  Action|Adventure|Crime|Drama   \n",
       "\n",
       "                                   production_companies release_date  \\\n",
       "300   DreamWorks SKG|The Montecito Picture Company|D...    3/20/2009   \n",
       "25    Paramount Pictures|Skydance Productions|China ...    7/23/2015   \n",
       "1174  Epsilon Motion Pictures|Franchise Pictures|Esc...    6/16/2003   \n",
       "1036  Universal Pictures|Dentsu|Relativity Media|Apa...    4/27/2012   \n",
       "1551                                  Columbia Pictures    9/15/2006   \n",
       "\n",
       "      vote_average  release_year  \n",
       "300            6.4          2009  \n",
       "25             7.1          2015  \n",
       "1174           5.0          2003  \n",
       "1036           5.6          2012  \n",
       "1551           6.5          2006  "
      ]
     },
     "execution_count": 3,
     "metadata": {},
     "output_type": "execute_result"
    }
   ],
   "source": [
    "data = pd.read_csv('movie_bd_v5.csv')\n",
    "data.sample(5)"
   ]
  },
  {
   "cell_type": "code",
   "execution_count": 4,
   "metadata": {
    "colab": {},
    "colab_type": "code",
    "id": "CoYUnagMVp-C"
   },
   "outputs": [
    {
     "data": {
      "text/html": [
       "<div>\n",
       "<style scoped>\n",
       "    .dataframe tbody tr th:only-of-type {\n",
       "        vertical-align: middle;\n",
       "    }\n",
       "\n",
       "    .dataframe tbody tr th {\n",
       "        vertical-align: top;\n",
       "    }\n",
       "\n",
       "    .dataframe thead th {\n",
       "        text-align: right;\n",
       "    }\n",
       "</style>\n",
       "<table border=\"1\" class=\"dataframe\">\n",
       "  <thead>\n",
       "    <tr style=\"text-align: right;\">\n",
       "      <th></th>\n",
       "      <th>budget</th>\n",
       "      <th>revenue</th>\n",
       "      <th>runtime</th>\n",
       "      <th>vote_average</th>\n",
       "      <th>release_year</th>\n",
       "    </tr>\n",
       "  </thead>\n",
       "  <tbody>\n",
       "    <tr>\n",
       "      <td>count</td>\n",
       "      <td>1.889000e+03</td>\n",
       "      <td>1.889000e+03</td>\n",
       "      <td>1889.000000</td>\n",
       "      <td>1889.000000</td>\n",
       "      <td>1889.000000</td>\n",
       "    </tr>\n",
       "    <tr>\n",
       "      <td>mean</td>\n",
       "      <td>5.431083e+07</td>\n",
       "      <td>1.553653e+08</td>\n",
       "      <td>109.658549</td>\n",
       "      <td>6.140762</td>\n",
       "      <td>2007.860773</td>\n",
       "    </tr>\n",
       "    <tr>\n",
       "      <td>std</td>\n",
       "      <td>4.858721e+07</td>\n",
       "      <td>2.146698e+08</td>\n",
       "      <td>18.017041</td>\n",
       "      <td>0.764763</td>\n",
       "      <td>4.468841</td>\n",
       "    </tr>\n",
       "    <tr>\n",
       "      <td>min</td>\n",
       "      <td>5.000000e+06</td>\n",
       "      <td>2.033165e+06</td>\n",
       "      <td>63.000000</td>\n",
       "      <td>3.300000</td>\n",
       "      <td>2000.000000</td>\n",
       "    </tr>\n",
       "    <tr>\n",
       "      <td>25%</td>\n",
       "      <td>2.000000e+07</td>\n",
       "      <td>3.456058e+07</td>\n",
       "      <td>97.000000</td>\n",
       "      <td>5.600000</td>\n",
       "      <td>2004.000000</td>\n",
       "    </tr>\n",
       "    <tr>\n",
       "      <td>50%</td>\n",
       "      <td>3.800000e+07</td>\n",
       "      <td>8.361541e+07</td>\n",
       "      <td>107.000000</td>\n",
       "      <td>6.100000</td>\n",
       "      <td>2008.000000</td>\n",
       "    </tr>\n",
       "    <tr>\n",
       "      <td>75%</td>\n",
       "      <td>7.200000e+07</td>\n",
       "      <td>1.782626e+08</td>\n",
       "      <td>120.000000</td>\n",
       "      <td>6.600000</td>\n",
       "      <td>2012.000000</td>\n",
       "    </tr>\n",
       "    <tr>\n",
       "      <td>max</td>\n",
       "      <td>3.800000e+08</td>\n",
       "      <td>2.781506e+09</td>\n",
       "      <td>214.000000</td>\n",
       "      <td>8.100000</td>\n",
       "      <td>2015.000000</td>\n",
       "    </tr>\n",
       "  </tbody>\n",
       "</table>\n",
       "</div>"
      ],
      "text/plain": [
       "             budget       revenue      runtime  vote_average  release_year\n",
       "count  1.889000e+03  1.889000e+03  1889.000000   1889.000000   1889.000000\n",
       "mean   5.431083e+07  1.553653e+08   109.658549      6.140762   2007.860773\n",
       "std    4.858721e+07  2.146698e+08    18.017041      0.764763      4.468841\n",
       "min    5.000000e+06  2.033165e+06    63.000000      3.300000   2000.000000\n",
       "25%    2.000000e+07  3.456058e+07    97.000000      5.600000   2004.000000\n",
       "50%    3.800000e+07  8.361541e+07   107.000000      6.100000   2008.000000\n",
       "75%    7.200000e+07  1.782626e+08   120.000000      6.600000   2012.000000\n",
       "max    3.800000e+08  2.781506e+09   214.000000      8.100000   2015.000000"
      ]
     },
     "execution_count": 4,
     "metadata": {},
     "output_type": "execute_result"
    }
   ],
   "source": [
    "data.describe()"
   ]
  },
  {
   "cell_type": "markdown",
   "metadata": {
    "colab_type": "text",
    "id": "DTIt7ezGVp-G"
   },
   "source": [
    "# Предобработка"
   ]
  },
  {
   "cell_type": "code",
   "execution_count": 5,
   "metadata": {
    "colab": {},
    "colab_type": "code",
    "id": "jNb40DwKVp-H"
   },
   "outputs": [],
   "source": [
    "answers = {} # создадим словарь для ответов\n",
    "\n",
    "# тут другие ваши предобработки колонок например:\n",
    "\n",
    "#the time given in the dataset is in string format.\n",
    "#So we need to change this in datetime format\n",
    "# Adding Profit column\n",
    "data['profit'] = data.revenue - data.budget\n",
    "# Modifying genres, actors, director columns, production_companies, release_date into list type.\n",
    "data['genres'] = data['genres'].str.split('|')"
   ]
  },
  {
   "cell_type": "code",
   "execution_count": 6,
   "metadata": {},
   "outputs": [],
   "source": [
    "data['director'] = data['director'].str.split('|')"
   ]
  },
  {
   "cell_type": "code",
   "execution_count": 7,
   "metadata": {},
   "outputs": [],
   "source": [
    "data['cast'] = data['cast'].str.split('|')"
   ]
  },
  {
   "cell_type": "code",
   "execution_count": 8,
   "metadata": {},
   "outputs": [],
   "source": [
    "data['production_companies'] = data['production_companies'].str.split('|')"
   ]
  },
  {
   "cell_type": "code",
   "execution_count": 9,
   "metadata": {},
   "outputs": [],
   "source": [
    "data.release_date = data.release_date.str.split('/')"
   ]
  },
  {
   "cell_type": "code",
   "execution_count": 10,
   "metadata": {},
   "outputs": [],
   "source": [
    "data['release_month'] = data.release_date.apply(lambda x: x[0])"
   ]
  },
  {
   "cell_type": "code",
   "execution_count": 11,
   "metadata": {},
   "outputs": [],
   "source": [
    "data['original_title_len'] = data.original_title.apply(lambda x: len(x))"
   ]
  },
  {
   "cell_type": "code",
   "execution_count": 12,
   "metadata": {},
   "outputs": [],
   "source": [
    "data['overview_len'] = data.overview.apply(lambda x: len(x))"
   ]
  },
  {
   "cell_type": "markdown",
   "metadata": {
    "colab_type": "text",
    "id": "YxZaH-nPVp-L"
   },
   "source": [
    "# 1. У какого фильма из списка самый большой бюджет?"
   ]
  },
  {
   "cell_type": "markdown",
   "metadata": {
    "colab_type": "text",
    "id": "Nd-G5gX6Vp-M"
   },
   "source": [
    "Использовать варианты ответов в коде решения запрещено.    \n",
    "Вы думаете и в жизни у вас будут варианты ответов?)"
   ]
  },
  {
   "cell_type": "code",
   "execution_count": 13,
   "metadata": {
    "colab": {},
    "colab_type": "code",
    "id": "uVnXAY5RVp-O"
   },
   "outputs": [],
   "source": [
    "# в словарь вставляем номер вопроса и ваш ответ на него\n",
    "# Пример: \n",
    "#answers['1'] = '2. Spider-Man 3 (tt0413300)'\n",
    "# запишите свой вариант ответа\n",
    "answers['1'] = '5. Pirates of the Caribbean: On Stranger Tides (tt1298650)'\n",
    "# если ответили верно, можете добавить комментарий со значком \"+\""
   ]
  },
  {
   "cell_type": "code",
   "execution_count": 14,
   "metadata": {
    "colab": {},
    "colab_type": "code",
    "id": "dZwb3m28Vp-S"
   },
   "outputs": [
    {
     "data": {
      "text/html": [
       "<div>\n",
       "<style scoped>\n",
       "    .dataframe tbody tr th:only-of-type {\n",
       "        vertical-align: middle;\n",
       "    }\n",
       "\n",
       "    .dataframe tbody tr th {\n",
       "        vertical-align: top;\n",
       "    }\n",
       "\n",
       "    .dataframe thead th {\n",
       "        text-align: right;\n",
       "    }\n",
       "</style>\n",
       "<table border=\"1\" class=\"dataframe\">\n",
       "  <thead>\n",
       "    <tr style=\"text-align: right;\">\n",
       "      <th></th>\n",
       "      <th>imdb_id</th>\n",
       "      <th>budget</th>\n",
       "      <th>revenue</th>\n",
       "      <th>original_title</th>\n",
       "      <th>cast</th>\n",
       "      <th>director</th>\n",
       "      <th>tagline</th>\n",
       "      <th>overview</th>\n",
       "      <th>runtime</th>\n",
       "      <th>genres</th>\n",
       "      <th>production_companies</th>\n",
       "      <th>release_date</th>\n",
       "      <th>vote_average</th>\n",
       "      <th>release_year</th>\n",
       "      <th>profit</th>\n",
       "      <th>release_month</th>\n",
       "      <th>original_title_len</th>\n",
       "      <th>overview_len</th>\n",
       "    </tr>\n",
       "  </thead>\n",
       "  <tbody>\n",
       "    <tr>\n",
       "      <td>723</td>\n",
       "      <td>tt1298650</td>\n",
       "      <td>380000000</td>\n",
       "      <td>1021683000</td>\n",
       "      <td>Pirates of the Caribbean: On Stranger Tides</td>\n",
       "      <td>[Johnny Depp, PenÃ©lope Cruz, Geoffrey Rush, I...</td>\n",
       "      <td>[Rob Marshall]</td>\n",
       "      <td>Live Forever Or Die Trying.</td>\n",
       "      <td>Captain Jack Sparrow crosses paths with a woma...</td>\n",
       "      <td>136</td>\n",
       "      <td>[Adventure, Action, Fantasy]</td>\n",
       "      <td>[Walt Disney Pictures, Jerry Bruckheimer Films...</td>\n",
       "      <td>[5, 11, 2011]</td>\n",
       "      <td>6.3</td>\n",
       "      <td>2011</td>\n",
       "      <td>641683000</td>\n",
       "      <td>5</td>\n",
       "      <td>43</td>\n",
       "      <td>411</td>\n",
       "    </tr>\n",
       "  </tbody>\n",
       "</table>\n",
       "</div>"
      ],
      "text/plain": [
       "       imdb_id     budget     revenue  \\\n",
       "723  tt1298650  380000000  1021683000   \n",
       "\n",
       "                                  original_title  \\\n",
       "723  Pirates of the Caribbean: On Stranger Tides   \n",
       "\n",
       "                                                  cast        director  \\\n",
       "723  [Johnny Depp, PenÃ©lope Cruz, Geoffrey Rush, I...  [Rob Marshall]   \n",
       "\n",
       "                         tagline  \\\n",
       "723  Live Forever Or Die Trying.   \n",
       "\n",
       "                                              overview  runtime  \\\n",
       "723  Captain Jack Sparrow crosses paths with a woma...      136   \n",
       "\n",
       "                           genres  \\\n",
       "723  [Adventure, Action, Fantasy]   \n",
       "\n",
       "                                  production_companies   release_date  \\\n",
       "723  [Walt Disney Pictures, Jerry Bruckheimer Films...  [5, 11, 2011]   \n",
       "\n",
       "     vote_average  release_year     profit release_month  original_title_len  \\\n",
       "723           6.3          2011  641683000             5                  43   \n",
       "\n",
       "     overview_len  \n",
       "723           411  "
      ]
     },
     "execution_count": 14,
     "metadata": {},
     "output_type": "execute_result"
    }
   ],
   "source": [
    "# тут пишем ваш код для решения данного вопроса:\n",
    "data[data.budget == data.budget.max()]"
   ]
  },
  {
   "cell_type": "markdown",
   "metadata": {
    "colab_type": "text",
    "id": "K7L3nbRXVp-X"
   },
   "source": [
    "ВАРИАНТ 2"
   ]
  },
  {
   "cell_type": "code",
   "execution_count": 15,
   "metadata": {
    "colab": {},
    "colab_type": "code",
    "id": "OGaoQI7rVp-X"
   },
   "outputs": [],
   "source": [
    "# можно добавлять разные варианты решения"
   ]
  },
  {
   "cell_type": "markdown",
   "metadata": {
    "colab_type": "text",
    "id": "FNRbbI3vVp-c"
   },
   "source": [
    "# 2. Какой из фильмов самый длительный (в минутах)?"
   ]
  },
  {
   "cell_type": "code",
   "execution_count": 16,
   "metadata": {
    "colab": {},
    "colab_type": "code",
    "id": "vHAoEXNTVp-d"
   },
   "outputs": [],
   "source": [
    "# думаю логику работы с этим словарем вы уже поняли, \n",
    "# по этому не буду больше его дублировать\n",
    "answers['2'] = '2. Gods and Generals (tt0279111)'"
   ]
  },
  {
   "cell_type": "code",
   "execution_count": 17,
   "metadata": {
    "colab": {},
    "colab_type": "code",
    "id": "ot-VX2XrVp-g"
   },
   "outputs": [
    {
     "data": {
      "text/html": [
       "<div>\n",
       "<style scoped>\n",
       "    .dataframe tbody tr th:only-of-type {\n",
       "        vertical-align: middle;\n",
       "    }\n",
       "\n",
       "    .dataframe tbody tr th {\n",
       "        vertical-align: top;\n",
       "    }\n",
       "\n",
       "    .dataframe thead th {\n",
       "        text-align: right;\n",
       "    }\n",
       "</style>\n",
       "<table border=\"1\" class=\"dataframe\">\n",
       "  <thead>\n",
       "    <tr style=\"text-align: right;\">\n",
       "      <th></th>\n",
       "      <th>imdb_id</th>\n",
       "      <th>budget</th>\n",
       "      <th>revenue</th>\n",
       "      <th>original_title</th>\n",
       "      <th>cast</th>\n",
       "      <th>director</th>\n",
       "      <th>tagline</th>\n",
       "      <th>overview</th>\n",
       "      <th>runtime</th>\n",
       "      <th>genres</th>\n",
       "      <th>production_companies</th>\n",
       "      <th>release_date</th>\n",
       "      <th>vote_average</th>\n",
       "      <th>release_year</th>\n",
       "      <th>profit</th>\n",
       "      <th>release_month</th>\n",
       "      <th>original_title_len</th>\n",
       "      <th>overview_len</th>\n",
       "    </tr>\n",
       "  </thead>\n",
       "  <tbody>\n",
       "    <tr>\n",
       "      <td>1157</td>\n",
       "      <td>tt0279111</td>\n",
       "      <td>56000000</td>\n",
       "      <td>12923936</td>\n",
       "      <td>Gods and Generals</td>\n",
       "      <td>[Stephen Lang, Jeff Daniels, Robert Duvall, Ke...</td>\n",
       "      <td>[Ronald F. Maxwell]</td>\n",
       "      <td>The nations heart was touched by...</td>\n",
       "      <td>The film centers mostly around the personal an...</td>\n",
       "      <td>214</td>\n",
       "      <td>[Drama, History, War]</td>\n",
       "      <td>[Turner Pictures, Antietam Filmworks]</td>\n",
       "      <td>[2, 21, 2003]</td>\n",
       "      <td>5.8</td>\n",
       "      <td>2003</td>\n",
       "      <td>-43076064</td>\n",
       "      <td>2</td>\n",
       "      <td>17</td>\n",
       "      <td>307</td>\n",
       "    </tr>\n",
       "  </tbody>\n",
       "</table>\n",
       "</div>"
      ],
      "text/plain": [
       "        imdb_id    budget   revenue     original_title  \\\n",
       "1157  tt0279111  56000000  12923936  Gods and Generals   \n",
       "\n",
       "                                                   cast             director  \\\n",
       "1157  [Stephen Lang, Jeff Daniels, Robert Duvall, Ke...  [Ronald F. Maxwell]   \n",
       "\n",
       "                                  tagline  \\\n",
       "1157  The nations heart was touched by...   \n",
       "\n",
       "                                               overview  runtime  \\\n",
       "1157  The film centers mostly around the personal an...      214   \n",
       "\n",
       "                     genres                   production_companies  \\\n",
       "1157  [Drama, History, War]  [Turner Pictures, Antietam Filmworks]   \n",
       "\n",
       "       release_date  vote_average  release_year    profit release_month  \\\n",
       "1157  [2, 21, 2003]           5.8          2003 -43076064             2   \n",
       "\n",
       "      original_title_len  overview_len  \n",
       "1157                  17           307  "
      ]
     },
     "execution_count": 17,
     "metadata": {},
     "output_type": "execute_result"
    }
   ],
   "source": [
    "data[data.runtime == data.runtime.max()]"
   ]
  },
  {
   "cell_type": "markdown",
   "metadata": {
    "colab_type": "text",
    "id": "bapLlpW8Vp-k"
   },
   "source": [
    "# 3. Какой из фильмов самый короткий (в минутах)?\n",
    "\n",
    "\n",
    "\n"
   ]
  },
  {
   "cell_type": "code",
   "execution_count": 18,
   "metadata": {
    "colab": {},
    "colab_type": "code",
    "id": "YBxaSHuAVp-l"
   },
   "outputs": [],
   "source": [
    "answers['3'] = '3. Winnie the Pooh (tt1449283)'"
   ]
  },
  {
   "cell_type": "code",
   "execution_count": 19,
   "metadata": {},
   "outputs": [
    {
     "data": {
      "text/html": [
       "<div>\n",
       "<style scoped>\n",
       "    .dataframe tbody tr th:only-of-type {\n",
       "        vertical-align: middle;\n",
       "    }\n",
       "\n",
       "    .dataframe tbody tr th {\n",
       "        vertical-align: top;\n",
       "    }\n",
       "\n",
       "    .dataframe thead th {\n",
       "        text-align: right;\n",
       "    }\n",
       "</style>\n",
       "<table border=\"1\" class=\"dataframe\">\n",
       "  <thead>\n",
       "    <tr style=\"text-align: right;\">\n",
       "      <th></th>\n",
       "      <th>imdb_id</th>\n",
       "      <th>budget</th>\n",
       "      <th>revenue</th>\n",
       "      <th>original_title</th>\n",
       "      <th>cast</th>\n",
       "      <th>director</th>\n",
       "      <th>tagline</th>\n",
       "      <th>overview</th>\n",
       "      <th>runtime</th>\n",
       "      <th>genres</th>\n",
       "      <th>production_companies</th>\n",
       "      <th>release_date</th>\n",
       "      <th>vote_average</th>\n",
       "      <th>release_year</th>\n",
       "      <th>profit</th>\n",
       "      <th>release_month</th>\n",
       "      <th>original_title_len</th>\n",
       "      <th>overview_len</th>\n",
       "    </tr>\n",
       "  </thead>\n",
       "  <tbody>\n",
       "    <tr>\n",
       "      <td>1157</td>\n",
       "      <td>tt0279111</td>\n",
       "      <td>56000000</td>\n",
       "      <td>12923936</td>\n",
       "      <td>Gods and Generals</td>\n",
       "      <td>[Stephen Lang, Jeff Daniels, Robert Duvall, Ke...</td>\n",
       "      <td>[Ronald F. Maxwell]</td>\n",
       "      <td>The nations heart was touched by...</td>\n",
       "      <td>The film centers mostly around the personal an...</td>\n",
       "      <td>214</td>\n",
       "      <td>[Drama, History, War]</td>\n",
       "      <td>[Turner Pictures, Antietam Filmworks]</td>\n",
       "      <td>[2, 21, 2003]</td>\n",
       "      <td>5.8</td>\n",
       "      <td>2003</td>\n",
       "      <td>-43076064</td>\n",
       "      <td>2</td>\n",
       "      <td>17</td>\n",
       "      <td>307</td>\n",
       "    </tr>\n",
       "  </tbody>\n",
       "</table>\n",
       "</div>"
      ],
      "text/plain": [
       "        imdb_id    budget   revenue     original_title  \\\n",
       "1157  tt0279111  56000000  12923936  Gods and Generals   \n",
       "\n",
       "                                                   cast             director  \\\n",
       "1157  [Stephen Lang, Jeff Daniels, Robert Duvall, Ke...  [Ronald F. Maxwell]   \n",
       "\n",
       "                                  tagline  \\\n",
       "1157  The nations heart was touched by...   \n",
       "\n",
       "                                               overview  runtime  \\\n",
       "1157  The film centers mostly around the personal an...      214   \n",
       "\n",
       "                     genres                   production_companies  \\\n",
       "1157  [Drama, History, War]  [Turner Pictures, Antietam Filmworks]   \n",
       "\n",
       "       release_date  vote_average  release_year    profit release_month  \\\n",
       "1157  [2, 21, 2003]           5.8          2003 -43076064             2   \n",
       "\n",
       "      original_title_len  overview_len  \n",
       "1157                  17           307  "
      ]
     },
     "execution_count": 19,
     "metadata": {},
     "output_type": "execute_result"
    }
   ],
   "source": [
    "data[data.runtime == data.runtime.max()]"
   ]
  },
  {
   "cell_type": "markdown",
   "metadata": {
    "colab_type": "text",
    "id": "TfQbxbfNVp-p"
   },
   "source": [
    "# 4. Какова средняя длительность фильмов?\n"
   ]
  },
  {
   "cell_type": "code",
   "execution_count": 20,
   "metadata": {
    "colab": {},
    "colab_type": "code",
    "id": "5K6dKZYVVp-q"
   },
   "outputs": [
    {
     "data": {
      "text/plain": [
       "110.0"
      ]
     },
     "execution_count": 20,
     "metadata": {},
     "output_type": "execute_result"
    }
   ],
   "source": [
    "round(data.runtime.mean(),0)"
   ]
  },
  {
   "cell_type": "code",
   "execution_count": 21,
   "metadata": {},
   "outputs": [],
   "source": [
    "answers['4'] = '2. 110'"
   ]
  },
  {
   "cell_type": "markdown",
   "metadata": {
    "colab_type": "text",
    "id": "r5TvbnT_Vp-u"
   },
   "source": [
    "# 5. Каково медианное значение длительности фильмов? "
   ]
  },
  {
   "cell_type": "code",
   "execution_count": 22,
   "metadata": {
    "colab": {},
    "colab_type": "code",
    "id": "iBROplKnVp-v"
   },
   "outputs": [
    {
     "data": {
      "text/plain": [
       "107.0"
      ]
     },
     "execution_count": 22,
     "metadata": {},
     "output_type": "execute_result"
    }
   ],
   "source": [
    "round(data.runtime.median(),0)"
   ]
  },
  {
   "cell_type": "code",
   "execution_count": 23,
   "metadata": {},
   "outputs": [],
   "source": [
    "answers['5'] = '1. 107'"
   ]
  },
  {
   "cell_type": "markdown",
   "metadata": {
    "colab_type": "text",
    "id": "39P-deDSVp-y"
   },
   "source": [
    "# 6. Какой самый прибыльный фильм?\n",
    "#### Внимание! Здесь и далее под «прибылью» или «убытками» понимается разность между сборами и бюджетом фильма. (прибыль = сборы - бюджет) в нашем датасете это будет (profit = revenue - budget) "
   ]
  },
  {
   "cell_type": "code",
   "execution_count": 24,
   "metadata": {
    "colab": {},
    "colab_type": "code",
    "id": "UYZh4T9WVp-y"
   },
   "outputs": [
    {
     "data": {
      "text/html": [
       "<div>\n",
       "<style scoped>\n",
       "    .dataframe tbody tr th:only-of-type {\n",
       "        vertical-align: middle;\n",
       "    }\n",
       "\n",
       "    .dataframe tbody tr th {\n",
       "        vertical-align: top;\n",
       "    }\n",
       "\n",
       "    .dataframe thead th {\n",
       "        text-align: right;\n",
       "    }\n",
       "</style>\n",
       "<table border=\"1\" class=\"dataframe\">\n",
       "  <thead>\n",
       "    <tr style=\"text-align: right;\">\n",
       "      <th></th>\n",
       "      <th>imdb_id</th>\n",
       "      <th>budget</th>\n",
       "      <th>revenue</th>\n",
       "      <th>original_title</th>\n",
       "      <th>cast</th>\n",
       "      <th>director</th>\n",
       "      <th>tagline</th>\n",
       "      <th>overview</th>\n",
       "      <th>runtime</th>\n",
       "      <th>genres</th>\n",
       "      <th>production_companies</th>\n",
       "      <th>release_date</th>\n",
       "      <th>vote_average</th>\n",
       "      <th>release_year</th>\n",
       "      <th>profit</th>\n",
       "      <th>release_month</th>\n",
       "      <th>original_title_len</th>\n",
       "      <th>overview_len</th>\n",
       "    </tr>\n",
       "  </thead>\n",
       "  <tbody>\n",
       "    <tr>\n",
       "      <td>239</td>\n",
       "      <td>tt0499549</td>\n",
       "      <td>237000000</td>\n",
       "      <td>2781505847</td>\n",
       "      <td>Avatar</td>\n",
       "      <td>[Sam Worthington, Zoe Saldana, Sigourney Weave...</td>\n",
       "      <td>[James Cameron]</td>\n",
       "      <td>Enter the World of Pandora.</td>\n",
       "      <td>In the 22nd century, a paraplegic Marine is di...</td>\n",
       "      <td>162</td>\n",
       "      <td>[Action, Adventure, Fantasy, Science Fiction]</td>\n",
       "      <td>[Ingenious Film Partners, Twentieth Century Fo...</td>\n",
       "      <td>[12, 10, 2009]</td>\n",
       "      <td>7.1</td>\n",
       "      <td>2009</td>\n",
       "      <td>2544505847</td>\n",
       "      <td>12</td>\n",
       "      <td>6</td>\n",
       "      <td>175</td>\n",
       "    </tr>\n",
       "  </tbody>\n",
       "</table>\n",
       "</div>"
      ],
      "text/plain": [
       "       imdb_id     budget     revenue original_title  \\\n",
       "239  tt0499549  237000000  2781505847         Avatar   \n",
       "\n",
       "                                                  cast         director  \\\n",
       "239  [Sam Worthington, Zoe Saldana, Sigourney Weave...  [James Cameron]   \n",
       "\n",
       "                         tagline  \\\n",
       "239  Enter the World of Pandora.   \n",
       "\n",
       "                                              overview  runtime  \\\n",
       "239  In the 22nd century, a paraplegic Marine is di...      162   \n",
       "\n",
       "                                            genres  \\\n",
       "239  [Action, Adventure, Fantasy, Science Fiction]   \n",
       "\n",
       "                                  production_companies    release_date  \\\n",
       "239  [Ingenious Film Partners, Twentieth Century Fo...  [12, 10, 2009]   \n",
       "\n",
       "     vote_average  release_year      profit release_month  original_title_len  \\\n",
       "239           7.1          2009  2544505847            12                   6   \n",
       "\n",
       "     overview_len  \n",
       "239           175  "
      ]
     },
     "execution_count": 24,
     "metadata": {},
     "output_type": "execute_result"
    }
   ],
   "source": [
    "# лучше код получения столбца profit вынести в Предобработку что в начале\n",
    "data[data.profit == data.profit.max()]"
   ]
  },
  {
   "cell_type": "code",
   "execution_count": 25,
   "metadata": {},
   "outputs": [],
   "source": [
    "answers['6'] = '5. Avatar (tt0499549)'"
   ]
  },
  {
   "cell_type": "markdown",
   "metadata": {
    "colab_type": "text",
    "id": "M99JmIX4Vp-2"
   },
   "source": [
    "# 7. Какой фильм самый убыточный? "
   ]
  },
  {
   "cell_type": "code",
   "execution_count": 26,
   "metadata": {
    "colab": {},
    "colab_type": "code",
    "id": "w-D2m4XPVp-3"
   },
   "outputs": [
    {
     "data": {
      "text/html": [
       "<div>\n",
       "<style scoped>\n",
       "    .dataframe tbody tr th:only-of-type {\n",
       "        vertical-align: middle;\n",
       "    }\n",
       "\n",
       "    .dataframe tbody tr th {\n",
       "        vertical-align: top;\n",
       "    }\n",
       "\n",
       "    .dataframe thead th {\n",
       "        text-align: right;\n",
       "    }\n",
       "</style>\n",
       "<table border=\"1\" class=\"dataframe\">\n",
       "  <thead>\n",
       "    <tr style=\"text-align: right;\">\n",
       "      <th></th>\n",
       "      <th>imdb_id</th>\n",
       "      <th>budget</th>\n",
       "      <th>revenue</th>\n",
       "      <th>original_title</th>\n",
       "      <th>cast</th>\n",
       "      <th>director</th>\n",
       "      <th>tagline</th>\n",
       "      <th>overview</th>\n",
       "      <th>runtime</th>\n",
       "      <th>genres</th>\n",
       "      <th>production_companies</th>\n",
       "      <th>release_date</th>\n",
       "      <th>vote_average</th>\n",
       "      <th>release_year</th>\n",
       "      <th>profit</th>\n",
       "      <th>release_month</th>\n",
       "      <th>original_title_len</th>\n",
       "      <th>overview_len</th>\n",
       "    </tr>\n",
       "  </thead>\n",
       "  <tbody>\n",
       "    <tr>\n",
       "      <td>1245</td>\n",
       "      <td>tt1210819</td>\n",
       "      <td>255000000</td>\n",
       "      <td>89289910</td>\n",
       "      <td>The Lone Ranger</td>\n",
       "      <td>[Johnny Depp, Armie Hammer, William Fichtner, ...</td>\n",
       "      <td>[Gore Verbinski]</td>\n",
       "      <td>Never Take Off the Mask</td>\n",
       "      <td>The Texas Rangers chase down a gang of outlaws...</td>\n",
       "      <td>149</td>\n",
       "      <td>[Action, Adventure, Western]</td>\n",
       "      <td>[Walt Disney Pictures, Jerry Bruckheimer Films...</td>\n",
       "      <td>[7, 3, 2013]</td>\n",
       "      <td>6.0</td>\n",
       "      <td>2013</td>\n",
       "      <td>-165710090</td>\n",
       "      <td>7</td>\n",
       "      <td>15</td>\n",
       "      <td>386</td>\n",
       "    </tr>\n",
       "  </tbody>\n",
       "</table>\n",
       "</div>"
      ],
      "text/plain": [
       "        imdb_id     budget   revenue   original_title  \\\n",
       "1245  tt1210819  255000000  89289910  The Lone Ranger   \n",
       "\n",
       "                                                   cast          director  \\\n",
       "1245  [Johnny Depp, Armie Hammer, William Fichtner, ...  [Gore Verbinski]   \n",
       "\n",
       "                      tagline  \\\n",
       "1245  Never Take Off the Mask   \n",
       "\n",
       "                                               overview  runtime  \\\n",
       "1245  The Texas Rangers chase down a gang of outlaws...      149   \n",
       "\n",
       "                            genres  \\\n",
       "1245  [Action, Adventure, Western]   \n",
       "\n",
       "                                   production_companies  release_date  \\\n",
       "1245  [Walt Disney Pictures, Jerry Bruckheimer Films...  [7, 3, 2013]   \n",
       "\n",
       "      vote_average  release_year     profit release_month  original_title_len  \\\n",
       "1245           6.0          2013 -165710090             7                  15   \n",
       "\n",
       "      overview_len  \n",
       "1245           386  "
      ]
     },
     "execution_count": 26,
     "metadata": {},
     "output_type": "execute_result"
    }
   ],
   "source": [
    "data[data.profit == data.profit.min()]"
   ]
  },
  {
   "cell_type": "code",
   "execution_count": 27,
   "metadata": {},
   "outputs": [],
   "source": [
    "answers['7'] = '5. The Lone Ranger (tt1210819)'"
   ]
  },
  {
   "cell_type": "markdown",
   "metadata": {
    "colab_type": "text",
    "id": "wEOM5ERVVp-6"
   },
   "source": [
    "# 8. У скольких фильмов из датасета объем сборов оказался выше бюджета?"
   ]
  },
  {
   "cell_type": "code",
   "execution_count": 28,
   "metadata": {
    "colab": {},
    "colab_type": "code",
    "id": "y00_7HD6Vp-7"
   },
   "outputs": [
    {
     "data": {
      "text/plain": [
       "1478"
      ]
     },
     "execution_count": 28,
     "metadata": {},
     "output_type": "execute_result"
    }
   ],
   "source": [
    "data[data.profit > 0].imdb_id.nunique()"
   ]
  },
  {
   "cell_type": "code",
   "execution_count": 29,
   "metadata": {},
   "outputs": [],
   "source": [
    "answers['8'] = '1. 1478'"
   ]
  },
  {
   "cell_type": "markdown",
   "metadata": {
    "colab_type": "text",
    "id": "xhpspA9KVp_A"
   },
   "source": [
    "# 9. Какой фильм оказался самым кассовым в 2008 году?"
   ]
  },
  {
   "cell_type": "code",
   "execution_count": 30,
   "metadata": {
    "colab": {},
    "colab_type": "code",
    "id": "MoUyQr9RVp_B"
   },
   "outputs": [
    {
     "data": {
      "text/html": [
       "<div>\n",
       "<style scoped>\n",
       "    .dataframe tbody tr th:only-of-type {\n",
       "        vertical-align: middle;\n",
       "    }\n",
       "\n",
       "    .dataframe tbody tr th {\n",
       "        vertical-align: top;\n",
       "    }\n",
       "\n",
       "    .dataframe thead th {\n",
       "        text-align: right;\n",
       "    }\n",
       "</style>\n",
       "<table border=\"1\" class=\"dataframe\">\n",
       "  <thead>\n",
       "    <tr style=\"text-align: right;\">\n",
       "      <th></th>\n",
       "      <th>imdb_id</th>\n",
       "      <th>budget</th>\n",
       "      <th>revenue</th>\n",
       "      <th>original_title</th>\n",
       "      <th>cast</th>\n",
       "      <th>director</th>\n",
       "      <th>tagline</th>\n",
       "      <th>overview</th>\n",
       "      <th>runtime</th>\n",
       "      <th>genres</th>\n",
       "      <th>production_companies</th>\n",
       "      <th>release_date</th>\n",
       "      <th>vote_average</th>\n",
       "      <th>release_year</th>\n",
       "      <th>profit</th>\n",
       "      <th>release_month</th>\n",
       "      <th>original_title_len</th>\n",
       "      <th>overview_len</th>\n",
       "    </tr>\n",
       "  </thead>\n",
       "  <tbody>\n",
       "    <tr>\n",
       "      <td>599</td>\n",
       "      <td>tt0468569</td>\n",
       "      <td>185000000</td>\n",
       "      <td>1001921825</td>\n",
       "      <td>The Dark Knight</td>\n",
       "      <td>[Christian Bale, Michael Caine, Heath Ledger, ...</td>\n",
       "      <td>[Christopher Nolan]</td>\n",
       "      <td>Why So Serious?</td>\n",
       "      <td>Batman raises the stakes in his war on crime. ...</td>\n",
       "      <td>152</td>\n",
       "      <td>[Drama, Action, Crime, Thriller]</td>\n",
       "      <td>[DC Comics, Legendary Pictures, Warner Bros., ...</td>\n",
       "      <td>[7, 16, 2008]</td>\n",
       "      <td>8.1</td>\n",
       "      <td>2008</td>\n",
       "      <td>816921825</td>\n",
       "      <td>7</td>\n",
       "      <td>15</td>\n",
       "      <td>396</td>\n",
       "    </tr>\n",
       "  </tbody>\n",
       "</table>\n",
       "</div>"
      ],
      "text/plain": [
       "       imdb_id     budget     revenue   original_title  \\\n",
       "599  tt0468569  185000000  1001921825  The Dark Knight   \n",
       "\n",
       "                                                  cast             director  \\\n",
       "599  [Christian Bale, Michael Caine, Heath Ledger, ...  [Christopher Nolan]   \n",
       "\n",
       "             tagline                                           overview  \\\n",
       "599  Why So Serious?  Batman raises the stakes in his war on crime. ...   \n",
       "\n",
       "     runtime                            genres  \\\n",
       "599      152  [Drama, Action, Crime, Thriller]   \n",
       "\n",
       "                                  production_companies   release_date  \\\n",
       "599  [DC Comics, Legendary Pictures, Warner Bros., ...  [7, 16, 2008]   \n",
       "\n",
       "     vote_average  release_year     profit release_month  original_title_len  \\\n",
       "599           8.1          2008  816921825             7                  15   \n",
       "\n",
       "     overview_len  \n",
       "599           396  "
      ]
     },
     "execution_count": 30,
     "metadata": {},
     "output_type": "execute_result"
    }
   ],
   "source": [
    "MaxRevenue2008 = data[data.release_year == 2008].revenue.max()\n",
    "data[data.revenue == MaxRevenue2008]"
   ]
  },
  {
   "cell_type": "code",
   "execution_count": 31,
   "metadata": {},
   "outputs": [],
   "source": [
    "answers['9'] = '4. The Dark Knight (tt0468569)'"
   ]
  },
  {
   "cell_type": "markdown",
   "metadata": {
    "colab_type": "text",
    "id": "Zi4hDKidVp_F"
   },
   "source": [
    "# 10. Самый убыточный фильм за период с 2012 по 2014 г. (включительно)?\n"
   ]
  },
  {
   "cell_type": "code",
   "execution_count": 32,
   "metadata": {
    "colab": {},
    "colab_type": "code",
    "id": "XqyRmufJVp_F"
   },
   "outputs": [
    {
     "data": {
      "text/html": [
       "<div>\n",
       "<style scoped>\n",
       "    .dataframe tbody tr th:only-of-type {\n",
       "        vertical-align: middle;\n",
       "    }\n",
       "\n",
       "    .dataframe tbody tr th {\n",
       "        vertical-align: top;\n",
       "    }\n",
       "\n",
       "    .dataframe thead th {\n",
       "        text-align: right;\n",
       "    }\n",
       "</style>\n",
       "<table border=\"1\" class=\"dataframe\">\n",
       "  <thead>\n",
       "    <tr style=\"text-align: right;\">\n",
       "      <th></th>\n",
       "      <th>imdb_id</th>\n",
       "      <th>budget</th>\n",
       "      <th>revenue</th>\n",
       "      <th>original_title</th>\n",
       "      <th>cast</th>\n",
       "      <th>director</th>\n",
       "      <th>tagline</th>\n",
       "      <th>overview</th>\n",
       "      <th>runtime</th>\n",
       "      <th>genres</th>\n",
       "      <th>production_companies</th>\n",
       "      <th>release_date</th>\n",
       "      <th>vote_average</th>\n",
       "      <th>release_year</th>\n",
       "      <th>profit</th>\n",
       "      <th>release_month</th>\n",
       "      <th>original_title_len</th>\n",
       "      <th>overview_len</th>\n",
       "    </tr>\n",
       "  </thead>\n",
       "  <tbody>\n",
       "    <tr>\n",
       "      <td>1245</td>\n",
       "      <td>tt1210819</td>\n",
       "      <td>255000000</td>\n",
       "      <td>89289910</td>\n",
       "      <td>The Lone Ranger</td>\n",
       "      <td>[Johnny Depp, Armie Hammer, William Fichtner, ...</td>\n",
       "      <td>[Gore Verbinski]</td>\n",
       "      <td>Never Take Off the Mask</td>\n",
       "      <td>The Texas Rangers chase down a gang of outlaws...</td>\n",
       "      <td>149</td>\n",
       "      <td>[Action, Adventure, Western]</td>\n",
       "      <td>[Walt Disney Pictures, Jerry Bruckheimer Films...</td>\n",
       "      <td>[7, 3, 2013]</td>\n",
       "      <td>6.0</td>\n",
       "      <td>2013</td>\n",
       "      <td>-165710090</td>\n",
       "      <td>7</td>\n",
       "      <td>15</td>\n",
       "      <td>386</td>\n",
       "    </tr>\n",
       "  </tbody>\n",
       "</table>\n",
       "</div>"
      ],
      "text/plain": [
       "        imdb_id     budget   revenue   original_title  \\\n",
       "1245  tt1210819  255000000  89289910  The Lone Ranger   \n",
       "\n",
       "                                                   cast          director  \\\n",
       "1245  [Johnny Depp, Armie Hammer, William Fichtner, ...  [Gore Verbinski]   \n",
       "\n",
       "                      tagline  \\\n",
       "1245  Never Take Off the Mask   \n",
       "\n",
       "                                               overview  runtime  \\\n",
       "1245  The Texas Rangers chase down a gang of outlaws...      149   \n",
       "\n",
       "                            genres  \\\n",
       "1245  [Action, Adventure, Western]   \n",
       "\n",
       "                                   production_companies  release_date  \\\n",
       "1245  [Walt Disney Pictures, Jerry Bruckheimer Films...  [7, 3, 2013]   \n",
       "\n",
       "      vote_average  release_year     profit release_month  original_title_len  \\\n",
       "1245           6.0          2013 -165710090             7                  15   \n",
       "\n",
       "      overview_len  \n",
       "1245           386  "
      ]
     },
     "execution_count": 32,
     "metadata": {},
     "output_type": "execute_result"
    }
   ],
   "source": [
    "MinProfit2012_2014 = data[data.release_year.isin([2012,2013,2014])].profit.min()\n",
    "data[data.profit == MinProfit2012_2014]"
   ]
  },
  {
   "cell_type": "code",
   "execution_count": 33,
   "metadata": {},
   "outputs": [],
   "source": [
    "answers['10'] = '5. The Lone Ranger (tt1210819)'"
   ]
  },
  {
   "cell_type": "markdown",
   "metadata": {
    "colab_type": "text",
    "id": "EA7Sa9dkVp_I"
   },
   "source": [
    "# 11. Какого жанра фильмов больше всего?"
   ]
  },
  {
   "cell_type": "code",
   "execution_count": 34,
   "metadata": {
    "colab": {},
    "colab_type": "code",
    "id": "zsJAwJ8QVp_J"
   },
   "outputs": [],
   "source": [
    "# эту задачу тоже можно решать разными подходами, попробуй реализовать разные варианты\n",
    "# если будешь добавлять функцию - выноси ее в предобработку что в начале\n"
   ]
  },
  {
   "cell_type": "code",
   "execution_count": 35,
   "metadata": {},
   "outputs": [
    {
     "data": {
      "text/plain": [
       "Drama    782\n",
       "Name: genres, dtype: int64"
      ]
     },
     "execution_count": 35,
     "metadata": {},
     "output_type": "execute_result"
    }
   ],
   "source": [
    "data.explode('genres').genres.value_counts().head(1)"
   ]
  },
  {
   "cell_type": "code",
   "execution_count": 36,
   "metadata": {},
   "outputs": [],
   "source": [
    "answers['11'] = '3. Drama'"
   ]
  },
  {
   "cell_type": "markdown",
   "metadata": {
    "colab_type": "text",
    "id": "Ax6g2C8SVp_M"
   },
   "source": [
    "ВАРИАНТ 2"
   ]
  },
  {
   "cell_type": "code",
   "execution_count": null,
   "metadata": {
    "colab": {},
    "colab_type": "code",
    "id": "otO3SbrSVp_N"
   },
   "outputs": [],
   "source": []
  },
  {
   "cell_type": "markdown",
   "metadata": {
    "colab_type": "text",
    "id": "T9_bPWpkVp_Q"
   },
   "source": [
    "# 12. Фильмы какого жанра чаще всего становятся прибыльными? "
   ]
  },
  {
   "cell_type": "code",
   "execution_count": 37,
   "metadata": {
    "colab": {},
    "colab_type": "code",
    "id": "Tmt8MaK1Vp_R"
   },
   "outputs": [
    {
     "data": {
      "text/plain": [
       "Drama    560\n",
       "Name: genres, dtype: int64"
      ]
     },
     "execution_count": 37,
     "metadata": {},
     "output_type": "execute_result"
    }
   ],
   "source": [
    "data[data.profit > 0].explode('genres').genres.value_counts().head(1)"
   ]
  },
  {
   "cell_type": "code",
   "execution_count": 38,
   "metadata": {},
   "outputs": [],
   "source": [
    "answers['12'] = '1. Drama'"
   ]
  },
  {
   "cell_type": "markdown",
   "metadata": {
    "colab_type": "text",
    "id": "0F23bgsDVp_U"
   },
   "source": [
    "# 13. У какого режиссера самые большие суммарные кассовые сборы?"
   ]
  },
  {
   "cell_type": "code",
   "execution_count": 39,
   "metadata": {
    "colab": {},
    "colab_type": "code",
    "id": "K6Z3J8ygVp_X"
   },
   "outputs": [
    {
     "data": {
      "text/plain": [
       "director\n",
       "Peter Jackson    6490593685\n",
       "Name: revenue, dtype: int64"
      ]
     },
     "execution_count": 39,
     "metadata": {},
     "output_type": "execute_result"
    }
   ],
   "source": [
    "data.explode('director').groupby(['director']).revenue.sum().sort_values(ascending = False).head(1)"
   ]
  },
  {
   "cell_type": "code",
   "execution_count": 40,
   "metadata": {},
   "outputs": [],
   "source": [
    "answers['13'] = '5. Peter Jackson'"
   ]
  },
  {
   "cell_type": "markdown",
   "metadata": {
    "colab_type": "text",
    "id": "PsYC9FgRVp_a"
   },
   "source": [
    "# 14. Какой режисер снял больше всего фильмов в стиле Action?"
   ]
  },
  {
   "cell_type": "code",
   "execution_count": 41,
   "metadata": {
    "colab": {},
    "colab_type": "code",
    "id": "wd2M-wHeVp_b"
   },
   "outputs": [
    {
     "data": {
      "text/plain": [
       "Robert Rodriguez      9\n",
       "Michael Bay           7\n",
       "Paul W.S. Anderson    7\n",
       "Ridley Scott          6\n",
       "Antoine Fuqua         6\n",
       "                     ..\n",
       "Tim Burton            1\n",
       "Pitof                 1\n",
       "Fyodor Bondarchuk     1\n",
       "Neil Burger           1\n",
       "David Mamet           1\n",
       "Name: director, Length: 364, dtype: int64"
      ]
     },
     "execution_count": 41,
     "metadata": {},
     "output_type": "execute_result"
    }
   ],
   "source": [
    "data1 = data.explode('genres')\n",
    "data1[data1.genres == 'Action'].explode('director').director.value_counts(ascending = False)"
   ]
  },
  {
   "cell_type": "code",
   "execution_count": 42,
   "metadata": {},
   "outputs": [],
   "source": [
    "answers['14'] = '3. Robert Rodriguez'"
   ]
  },
  {
   "cell_type": "markdown",
   "metadata": {
    "colab_type": "text",
    "id": "PQ0KciD7Vp_f"
   },
   "source": [
    "# 15. Фильмы с каким актером принесли самые высокие кассовые сборы в 2012 году? "
   ]
  },
  {
   "cell_type": "code",
   "execution_count": 43,
   "metadata": {
    "colab": {},
    "colab_type": "code",
    "id": "aga62oeKVp_g"
   },
   "outputs": [
    {
     "name": "stderr",
     "output_type": "stream",
     "text": [
      "C:\\Users\\alepr\\Anaconda3\\lib\\site-packages\\ipykernel_launcher.py:1: UserWarning: Boolean Series key will be reindexed to match DataFrame index.\n",
      "  \"\"\"Entry point for launching an IPython kernel.\n"
     ]
    },
    {
     "data": {
      "text/plain": [
       "cast\n",
       "Chris Hemsworth      2027450773\n",
       "Denis Leary          1629460639\n",
       "Anne Hathaway        1522851057\n",
       "Chris Evans          1519557910\n",
       "Robert Downey Jr.    1519557910\n",
       "                        ...    \n",
       "Jason Bateman           3428048\n",
       "Danny Huston            2106557\n",
       "Sami Gayle              2106557\n",
       "Josh Lucas              2106557\n",
       "Nicolas Cage            2106557\n",
       "Name: revenue, Length: 466, dtype: int64"
      ]
     },
     "execution_count": 43,
     "metadata": {},
     "output_type": "execute_result"
    }
   ],
   "source": [
    "data.explode('cast')[data.release_year == 2012].groupby(['cast']).revenue.sum().sort_values(ascending = False)"
   ]
  },
  {
   "cell_type": "code",
   "execution_count": 44,
   "metadata": {},
   "outputs": [],
   "source": [
    "answers['15'] = '3. Chris Hemsworth'"
   ]
  },
  {
   "cell_type": "markdown",
   "metadata": {
    "colab_type": "text",
    "id": "mWHyyL7QVp_j"
   },
   "source": [
    "# 16. Какой актер снялся в большем количестве высокобюджетных фильмов?"
   ]
  },
  {
   "cell_type": "code",
   "execution_count": 45,
   "metadata": {
    "colab": {},
    "colab_type": "code",
    "id": "qQtmHKTFVp_k"
   },
   "outputs": [
    {
     "data": {
      "text/plain": [
       "Matt Damon           18\n",
       "Adam Sandler         17\n",
       "Angelina Jolie       16\n",
       "Samuel L. Jackson    15\n",
       "Tom Cruise           15\n",
       "                     ..\n",
       "Kyla Pratt            1\n",
       "Eartha Kitt           1\n",
       "Harry Treadaway       1\n",
       "Mary Alice            1\n",
       "Lewis Black           1\n",
       "Name: cast, Length: 1505, dtype: int64"
      ]
     },
     "execution_count": 45,
     "metadata": {},
     "output_type": "execute_result"
    }
   ],
   "source": [
    "data[data.budget > data.budget.mean()].explode('cast').cast.value_counts(ascending = False)"
   ]
  },
  {
   "cell_type": "code",
   "execution_count": 46,
   "metadata": {},
   "outputs": [],
   "source": [
    "answers['16'] = '3. Matt Damon'"
   ]
  },
  {
   "cell_type": "markdown",
   "metadata": {
    "colab_type": "text",
    "id": "NIh6AaW5Vp_n"
   },
   "source": [
    "# 17. В фильмах какого жанра больше всего снимался Nicolas Cage? "
   ]
  },
  {
   "cell_type": "code",
   "execution_count": 47,
   "metadata": {
    "colab": {},
    "colab_type": "code",
    "id": "H74SJDIBVp_n"
   },
   "outputs": [
    {
     "data": {
      "text/plain": [
       "Action             17\n",
       "Thriller           15\n",
       "Drama              12\n",
       "Crime              10\n",
       "Fantasy             8\n",
       "Adventure           7\n",
       "Comedy              6\n",
       "Science Fiction     4\n",
       "Mystery             3\n",
       "Family              3\n",
       "Animation           3\n",
       "History             2\n",
       "War                 1\n",
       "Horror              1\n",
       "Romance             1\n",
       "Name: genres, dtype: int64"
      ]
     },
     "execution_count": 47,
     "metadata": {},
     "output_type": "execute_result"
    }
   ],
   "source": [
    "data1 = data.explode('cast')\n",
    "data1[data1.cast == 'Nicolas Cage'].explode('genres').genres.value_counts(ascending = False)"
   ]
  },
  {
   "cell_type": "code",
   "execution_count": 48,
   "metadata": {},
   "outputs": [],
   "source": [
    "answers['17'] = '2. Action'"
   ]
  },
  {
   "cell_type": "markdown",
   "metadata": {
    "colab_type": "text",
    "id": "RqOmPRfWVp_q"
   },
   "source": [
    "# 18. Самый убыточный фильм от Paramount Pictures"
   ]
  },
  {
   "cell_type": "code",
   "execution_count": 49,
   "metadata": {
    "colab": {},
    "colab_type": "code",
    "id": "9E_B0Y96Vp_r"
   },
   "outputs": [
    {
     "data": {
      "text/html": [
       "<div>\n",
       "<style scoped>\n",
       "    .dataframe tbody tr th:only-of-type {\n",
       "        vertical-align: middle;\n",
       "    }\n",
       "\n",
       "    .dataframe tbody tr th {\n",
       "        vertical-align: top;\n",
       "    }\n",
       "\n",
       "    .dataframe thead th {\n",
       "        text-align: right;\n",
       "    }\n",
       "</style>\n",
       "<table border=\"1\" class=\"dataframe\">\n",
       "  <thead>\n",
       "    <tr style=\"text-align: right;\">\n",
       "      <th></th>\n",
       "      <th>imdb_id</th>\n",
       "      <th>budget</th>\n",
       "      <th>revenue</th>\n",
       "      <th>original_title</th>\n",
       "      <th>cast</th>\n",
       "      <th>director</th>\n",
       "      <th>tagline</th>\n",
       "      <th>overview</th>\n",
       "      <th>runtime</th>\n",
       "      <th>genres</th>\n",
       "      <th>production_companies</th>\n",
       "      <th>release_date</th>\n",
       "      <th>vote_average</th>\n",
       "      <th>release_year</th>\n",
       "      <th>profit</th>\n",
       "      <th>release_month</th>\n",
       "      <th>original_title_len</th>\n",
       "      <th>overview_len</th>\n",
       "    </tr>\n",
       "  </thead>\n",
       "  <tbody>\n",
       "    <tr>\n",
       "      <td>925</td>\n",
       "      <td>tt0267626</td>\n",
       "      <td>100000000</td>\n",
       "      <td>35168966</td>\n",
       "      <td>K-19: The Widowmaker</td>\n",
       "      <td>[Harrison Ford, Liam Neeson, Peter Sarsgaard, ...</td>\n",
       "      <td>[Kathryn Bigelow]</td>\n",
       "      <td>Fate has found its hero.</td>\n",
       "      <td>When Russia's first nuclear submarine malfunct...</td>\n",
       "      <td>138</td>\n",
       "      <td>[Thriller, Drama, History]</td>\n",
       "      <td>Paramount Pictures</td>\n",
       "      <td>[7, 19, 2002]</td>\n",
       "      <td>6.0</td>\n",
       "      <td>2002</td>\n",
       "      <td>-64831034</td>\n",
       "      <td>7</td>\n",
       "      <td>20</td>\n",
       "      <td>140</td>\n",
       "    </tr>\n",
       "  </tbody>\n",
       "</table>\n",
       "</div>"
      ],
      "text/plain": [
       "       imdb_id     budget   revenue        original_title  \\\n",
       "925  tt0267626  100000000  35168966  K-19: The Widowmaker   \n",
       "\n",
       "                                                  cast           director  \\\n",
       "925  [Harrison Ford, Liam Neeson, Peter Sarsgaard, ...  [Kathryn Bigelow]   \n",
       "\n",
       "                      tagline  \\\n",
       "925  Fate has found its hero.   \n",
       "\n",
       "                                              overview  runtime  \\\n",
       "925  When Russia's first nuclear submarine malfunct...      138   \n",
       "\n",
       "                         genres production_companies   release_date  \\\n",
       "925  [Thriller, Drama, History]   Paramount Pictures  [7, 19, 2002]   \n",
       "\n",
       "     vote_average  release_year    profit release_month  original_title_len  \\\n",
       "925           6.0          2002 -64831034             7                  20   \n",
       "\n",
       "     overview_len  \n",
       "925           140  "
      ]
     },
     "execution_count": 49,
     "metadata": {},
     "output_type": "execute_result"
    }
   ],
   "source": [
    "data1 = data.explode('production_companies')\n",
    "data2 = data1[data1.production_companies == 'Paramount Pictures']\n",
    "data2[data2.profit == data2.profit.min()]"
   ]
  },
  {
   "cell_type": "code",
   "execution_count": 50,
   "metadata": {},
   "outputs": [],
   "source": [
    "answers['18'] = '1. K-19: The Widowmaker (tt0267626)'"
   ]
  },
  {
   "cell_type": "markdown",
   "metadata": {
    "colab_type": "text",
    "id": "vS8Ur6ddVp_u"
   },
   "source": [
    "# 19. Какой год стал самым успешным по суммарным кассовым сборам?"
   ]
  },
  {
   "cell_type": "code",
   "execution_count": 51,
   "metadata": {
    "colab": {},
    "colab_type": "code",
    "id": "Dnbt4GdIVp_v"
   },
   "outputs": [
    {
     "data": {
      "text/plain": [
       "release_year\n",
       "2015    25449202382\n",
       "2014    23405862953\n",
       "2013    23213799791\n",
       "2012    23079001687\n",
       "2011    22676791872\n",
       "2010    21071204961\n",
       "2009    20261791024\n",
       "2008    18252781990\n",
       "2007    18162406801\n",
       "2004    15663430720\n",
       "2005    15309425558\n",
       "2006    14775042320\n",
       "2003    14346123312\n",
       "2002    14136361487\n",
       "2001    13017764865\n",
       "2000    10664099805\n",
       "Name: revenue, dtype: int64"
      ]
     },
     "execution_count": 51,
     "metadata": {},
     "output_type": "execute_result"
    }
   ],
   "source": [
    "data.groupby(['release_year']).revenue.sum().sort_values(ascending = False)"
   ]
  },
  {
   "cell_type": "code",
   "execution_count": 52,
   "metadata": {},
   "outputs": [],
   "source": [
    "answers['19'] = '5. 2015'"
   ]
  },
  {
   "cell_type": "markdown",
   "metadata": {
    "colab_type": "text",
    "id": "JAzJh4QAVp_z"
   },
   "source": [
    "# 20. Какой самый прибыльный год для студии Warner Bros?"
   ]
  },
  {
   "cell_type": "code",
   "execution_count": 53,
   "metadata": {
    "colab": {},
    "colab_type": "code",
    "id": "wgVu02DEVp_0"
   },
   "outputs": [
    {
     "data": {
      "text/plain": [
       "release_year\n",
       "2014    2292949646\n",
       "2007    2208217007\n",
       "2008    2134595031\n",
       "2010    1974712985\n",
       "2011    1871393682\n",
       "2003    1844008221\n",
       "2009    1822454136\n",
       "2013    1636453400\n",
       "2004    1631933725\n",
       "2005    1595278228\n",
       "2001    1282142579\n",
       "2012    1258020056\n",
       "2002    1022709901\n",
       "2015     870368348\n",
       "2006     622332868\n",
       "2000     452631386\n",
       "Name: profit, dtype: int64"
      ]
     },
     "execution_count": 53,
     "metadata": {},
     "output_type": "execute_result"
    }
   ],
   "source": [
    "data1 = data.explode('production_companies')\n",
    "data1[data1.production_companies.str.contains ('Warner', na = False)].groupby(['release_year']).profit.sum().sort_values(ascending = False)"
   ]
  },
  {
   "cell_type": "code",
   "execution_count": 54,
   "metadata": {},
   "outputs": [],
   "source": [
    "answers['20'] = '1. 2014'"
   ]
  },
  {
   "cell_type": "markdown",
   "metadata": {
    "colab_type": "text",
    "id": "8Im1S2HRVp_4"
   },
   "source": [
    "# 21. В каком месяце за все годы суммарно вышло больше всего фильмов?"
   ]
  },
  {
   "cell_type": "code",
   "execution_count": 55,
   "metadata": {
    "colab": {},
    "colab_type": "code",
    "id": "lev6TH7gVp_4"
   },
   "outputs": [
    {
     "data": {
      "text/plain": [
       "9     227\n",
       "12    190\n",
       "10    186\n",
       "8     161\n",
       "3     156\n",
       "4     149\n",
       "6     147\n",
       "11    146\n",
       "7     142\n",
       "5     140\n",
       "2     135\n",
       "1     110\n",
       "Name: release_month, dtype: int64"
      ]
     },
     "execution_count": 55,
     "metadata": {},
     "output_type": "execute_result"
    }
   ],
   "source": [
    "data.release_month.value_counts()"
   ]
  },
  {
   "cell_type": "code",
   "execution_count": 56,
   "metadata": {},
   "outputs": [],
   "source": [
    "answers['21'] = '4. Сентябрь'"
   ]
  },
  {
   "cell_type": "markdown",
   "metadata": {
    "colab_type": "text",
    "id": "uAJsZ_NeVp_7"
   },
   "source": [
    "# 22. Сколько суммарно вышло фильмов летом? (за июнь, июль, август)"
   ]
  },
  {
   "cell_type": "code",
   "execution_count": 57,
   "metadata": {
    "colab": {},
    "colab_type": "code",
    "id": "Aa-hEREoVp_8"
   },
   "outputs": [
    {
     "data": {
      "text/plain": [
       "450"
      ]
     },
     "execution_count": 57,
     "metadata": {},
     "output_type": "execute_result"
    }
   ],
   "source": [
    "\n",
    "data.release_month = data.release_month.astype(int)\n",
    "data.query('5<release_month<9').imdb_id.count()\n"
   ]
  },
  {
   "cell_type": "code",
   "execution_count": 58,
   "metadata": {},
   "outputs": [],
   "source": [
    "answers['22'] = '2. 450'"
   ]
  },
  {
   "cell_type": "markdown",
   "metadata": {
    "colab_type": "text",
    "id": "G94ppOY1VqAA"
   },
   "source": [
    "# 23. Для какого режиссера зима – самое продуктивное время года? "
   ]
  },
  {
   "cell_type": "code",
   "execution_count": 59,
   "metadata": {
    "colab": {},
    "colab_type": "code",
    "id": "RhNTsamuVqAB"
   },
   "outputs": [
    {
     "data": {
      "text/plain": [
       "Peter Jackson        7\n",
       "Clint Eastwood       6\n",
       "Steven Soderbergh    6\n",
       "Shawn Levy           4\n",
       "Nancy Meyers         4\n",
       "                    ..\n",
       "Roman Polanski       1\n",
       "Steve Pink           1\n",
       "Jessie Nelson        1\n",
       "Tom Gormican         1\n",
       "Neil Marshall        1\n",
       "Name: director, Length: 358, dtype: int64"
      ]
     },
     "execution_count": 59,
     "metadata": {},
     "output_type": "execute_result"
    }
   ],
   "source": [
    "data.explode('director').query('release_month in [12,1,2]').director.value_counts(ascending = False)"
   ]
  },
  {
   "cell_type": "code",
   "execution_count": 60,
   "metadata": {},
   "outputs": [],
   "source": [
    "answers['23'] = '5. Peter Jackson'"
   ]
  },
  {
   "cell_type": "markdown",
   "metadata": {
    "colab_type": "text",
    "id": "RBo0JVjVVqAF"
   },
   "source": [
    "# 24. Какая студия дает самые длинные названия своим фильмам по количеству символов?"
   ]
  },
  {
   "cell_type": "code",
   "execution_count": 61,
   "metadata": {
    "colab": {},
    "colab_type": "code",
    "id": "QRGS8L0iVqAG"
   },
   "outputs": [
    {
     "data": {
      "text/plain": [
       "production_companies\n",
       "Four By Two Productions                   83\n",
       "Twentieth Century Fox Film Corporation    83\n",
       "Walden Media                              62\n",
       "Walt Disney                               62\n",
       "Jim Henson Company, The                   59\n",
       "                                          ..\n",
       "Everest Entertainment                      3\n",
       "Berlanti Productions                       3\n",
       "XM2 Productions                            2\n",
       "Global Entertainment Group                 2\n",
       "Ixtlan Productions                         2\n",
       "Name: original_title_len, Length: 1771, dtype: int64"
      ]
     },
     "execution_count": 61,
     "metadata": {},
     "output_type": "execute_result"
    }
   ],
   "source": [
    "data.explode('production_companies').groupby(['production_companies']).original_title_len.max().sort_values(ascending = False)"
   ]
  },
  {
   "cell_type": "code",
   "execution_count": 62,
   "metadata": {},
   "outputs": [],
   "source": [
    "answers['24'] = '5. Four By Two Productions'"
   ]
  },
  {
   "cell_type": "markdown",
   "metadata": {
    "colab_type": "text",
    "id": "9G0hbvR7VqAK"
   },
   "source": [
    "# 25. Описание фильмов какой студии в среднем самые длинные по количеству слов?"
   ]
  },
  {
   "cell_type": "code",
   "execution_count": 63,
   "metadata": {
    "colab": {},
    "colab_type": "code",
    "id": "Ge2GsLNxVqAK"
   },
   "outputs": [
    {
     "data": {
      "text/plain": [
       "production_companies\n",
       "Midnight Picture Show                    1000.0\n",
       "Room 9 Entertainment                      964.0\n",
       "Brookwell-McNamara Entertainment          936.0\n",
       "Lions Gate Family Entertainment           909.0\n",
       "Crest Animation Productions               909.0\n",
       "                                          ...  \n",
       "Projection Pictures                        74.0\n",
       "London Boulevard                           74.0\n",
       "Phantom Four                               72.0\n",
       "Empire Pictures                            62.0\n",
       "Motion Picture Corporation of America      59.0\n",
       "Name: overview_len, Length: 1771, dtype: float64"
      ]
     },
     "execution_count": 63,
     "metadata": {},
     "output_type": "execute_result"
    }
   ],
   "source": [
    "data.explode('production_companies').groupby(['production_companies']).overview_len.mean().sort_values(ascending = False)"
   ]
  },
  {
   "cell_type": "code",
   "execution_count": 64,
   "metadata": {},
   "outputs": [],
   "source": [
    "answers['25'] = '3. Midnight Picture Show'"
   ]
  },
  {
   "cell_type": "markdown",
   "metadata": {
    "colab_type": "text",
    "id": "FJ1AFt90VqAP"
   },
   "source": [
    "# 26. Какие фильмы входят в 1 процент лучших по рейтингу? \n",
    "по vote_average"
   ]
  },
  {
   "cell_type": "code",
   "execution_count": 80,
   "metadata": {
    "colab": {},
    "colab_type": "code",
    "id": "8qmJVq4CVqAQ"
   },
   "outputs": [
    {
     "name": "stdout",
     "output_type": "stream",
     "text": [
      "19\n"
     ]
    },
    {
     "data": {
      "text/html": [
       "<div>\n",
       "<style scoped>\n",
       "    .dataframe tbody tr th:only-of-type {\n",
       "        vertical-align: middle;\n",
       "    }\n",
       "\n",
       "    .dataframe tbody tr th {\n",
       "        vertical-align: top;\n",
       "    }\n",
       "\n",
       "    .dataframe thead th {\n",
       "        text-align: right;\n",
       "    }\n",
       "</style>\n",
       "<table border=\"1\" class=\"dataframe\">\n",
       "  <thead>\n",
       "    <tr style=\"text-align: right;\">\n",
       "      <th></th>\n",
       "      <th>imdb_id</th>\n",
       "      <th>budget</th>\n",
       "      <th>revenue</th>\n",
       "      <th>original_title</th>\n",
       "      <th>cast</th>\n",
       "      <th>director</th>\n",
       "      <th>tagline</th>\n",
       "      <th>overview</th>\n",
       "      <th>runtime</th>\n",
       "      <th>genres</th>\n",
       "      <th>production_companies</th>\n",
       "      <th>release_date</th>\n",
       "      <th>vote_average</th>\n",
       "      <th>release_year</th>\n",
       "      <th>profit</th>\n",
       "      <th>release_month</th>\n",
       "      <th>original_title_len</th>\n",
       "      <th>overview_len</th>\n",
       "    </tr>\n",
       "  </thead>\n",
       "  <tbody>\n",
       "    <tr>\n",
       "      <td>709</td>\n",
       "      <td>tt1213644</td>\n",
       "      <td>25000000</td>\n",
       "      <td>14109284</td>\n",
       "      <td>Disaster Movie</td>\n",
       "      <td>[Matt Lanter, Vanessa Lachey, Nicole Ari Parke...</td>\n",
       "      <td>[Jason Friedberg, Aaron Seltzer]</td>\n",
       "      <td>Your favorite movies are going to be destroyed.</td>\n",
       "      <td>In DISASTER MOVIE, the filmmaking team behind ...</td>\n",
       "      <td>87</td>\n",
       "      <td>[Action, Comedy]</td>\n",
       "      <td>[Grosvenor Park Media Ltd., LionsGate, 3 in th...</td>\n",
       "      <td>[8, 29, 2008]</td>\n",
       "      <td>3.3</td>\n",
       "      <td>2008</td>\n",
       "      <td>-10890716</td>\n",
       "      <td>8</td>\n",
       "      <td>14</td>\n",
       "      <td>250</td>\n",
       "    </tr>\n",
       "    <tr>\n",
       "      <td>965</td>\n",
       "      <td>tt0295254</td>\n",
       "      <td>40000000</td>\n",
       "      <td>18902015</td>\n",
       "      <td>FearDotCom</td>\n",
       "      <td>[Stephen Dorff, Natascha McElhone, Stephen Rea...</td>\n",
       "      <td>[William Malone]</td>\n",
       "      <td>The last site you'll ever see.</td>\n",
       "      <td>With four corpses on his hands, New York City ...</td>\n",
       "      <td>101</td>\n",
       "      <td>[Horror, Thriller]</td>\n",
       "      <td>[Milagro Films, Franchise Pictures, DoRo Ficti...</td>\n",
       "      <td>[8, 9, 2002]</td>\n",
       "      <td>3.3</td>\n",
       "      <td>2002</td>\n",
       "      <td>-21097985</td>\n",
       "      <td>8</td>\n",
       "      <td>10</td>\n",
       "      <td>446</td>\n",
       "    </tr>\n",
       "    <tr>\n",
       "      <td>1161</td>\n",
       "      <td>tt0317676</td>\n",
       "      <td>7000000</td>\n",
       "      <td>13818181</td>\n",
       "      <td>House of the Dead</td>\n",
       "      <td>[Jonathan Cherry, Tyron Leitso, Clint Howard, ...</td>\n",
       "      <td>[Uwe Boll]</td>\n",
       "      <td>You won't last the night.</td>\n",
       "      <td>Set on an island off the coast, a techno rave ...</td>\n",
       "      <td>90</td>\n",
       "      <td>[Horror, Action, Thriller]</td>\n",
       "      <td>[Boll Kino Beteiligungs GmbH &amp; Co. KG, Brightl...</td>\n",
       "      <td>[4, 11, 2003]</td>\n",
       "      <td>3.4</td>\n",
       "      <td>2003</td>\n",
       "      <td>6818181</td>\n",
       "      <td>4</td>\n",
       "      <td>17</td>\n",
       "      <td>375</td>\n",
       "    </tr>\n",
       "    <tr>\n",
       "      <td>1760</td>\n",
       "      <td>tt0799949</td>\n",
       "      <td>20000000</td>\n",
       "      <td>86865564</td>\n",
       "      <td>Epic Movie</td>\n",
       "      <td>[Kal Penn, Adam Campbell, Jennifer Coolidge, J...</td>\n",
       "      <td>[Jason Friedberg, Aaron Seltzer]</td>\n",
       "      <td>We know it's big. We measured.</td>\n",
       "      <td>When Edward, Peter, Lucy and Susan each follow...</td>\n",
       "      <td>86</td>\n",
       "      <td>[Action, Adventure, Comedy]</td>\n",
       "      <td>[Twentieth Century Fox Film Corporation, Regen...</td>\n",
       "      <td>[1, 25, 2007]</td>\n",
       "      <td>3.4</td>\n",
       "      <td>2007</td>\n",
       "      <td>66865564</td>\n",
       "      <td>1</td>\n",
       "      <td>10</td>\n",
       "      <td>400</td>\n",
       "    </tr>\n",
       "    <tr>\n",
       "      <td>1175</td>\n",
       "      <td>tt0339034</td>\n",
       "      <td>12000000</td>\n",
       "      <td>4922166</td>\n",
       "      <td>From Justin to Kelly</td>\n",
       "      <td>[Kelly Clarkson, Justin Guarini , Brandon Hens...</td>\n",
       "      <td>[Robert Iscove]</td>\n",
       "      <td>The tale of two American Idols.</td>\n",
       "      <td>A lonely, sexually repressed man. A depressed ...</td>\n",
       "      <td>90</td>\n",
       "      <td>[Comedy, Romance]</td>\n",
       "      <td>[20th Century Fox]</td>\n",
       "      <td>[6, 20, 2003]</td>\n",
       "      <td>3.5</td>\n",
       "      <td>2003</td>\n",
       "      <td>-7077834</td>\n",
       "      <td>6</td>\n",
       "      <td>20</td>\n",
       "      <td>142</td>\n",
       "    </tr>\n",
       "    <tr>\n",
       "      <td>1424</td>\n",
       "      <td>tt0369226</td>\n",
       "      <td>20000000</td>\n",
       "      <td>10442808</td>\n",
       "      <td>Alone in the Dark</td>\n",
       "      <td>[Christian Slater, Tara Reid, Stephen Dorff, F...</td>\n",
       "      <td>[Uwe Boll]</td>\n",
       "      <td>Can mankind defeat the army of darkness unleas...</td>\n",
       "      <td>Edward Carnby is a private investigator specia...</td>\n",
       "      <td>96</td>\n",
       "      <td>[Action, Fantasy, Horror, Thriller]</td>\n",
       "      <td>[Boll Kino Beteiligungs GmbH &amp; Co. KG, Brightl...</td>\n",
       "      <td>[1, 28, 2005]</td>\n",
       "      <td>3.5</td>\n",
       "      <td>2005</td>\n",
       "      <td>-9557192</td>\n",
       "      <td>1</td>\n",
       "      <td>17</td>\n",
       "      <td>314</td>\n",
       "    </tr>\n",
       "    <tr>\n",
       "      <td>1742</td>\n",
       "      <td>tt0897361</td>\n",
       "      <td>12000000</td>\n",
       "      <td>9620399</td>\n",
       "      <td>I Know Who Killed Me</td>\n",
       "      <td>[Lindsay Lohan, Julia Ormond, Neal McDonough, ...</td>\n",
       "      <td>[Chris Sivertson]</td>\n",
       "      <td>There are two sides to every crime.</td>\n",
       "      <td>An idyllic small town is rocked when Aubrey Fl...</td>\n",
       "      <td>105</td>\n",
       "      <td>[Crime, Horror, Mystery, Thriller]</td>\n",
       "      <td>[TriStar Pictures, 360 Pictures]</td>\n",
       "      <td>[7, 27, 2007]</td>\n",
       "      <td>3.8</td>\n",
       "      <td>2007</td>\n",
       "      <td>-2379601</td>\n",
       "      <td>7</td>\n",
       "      <td>20</td>\n",
       "      <td>355</td>\n",
       "    </tr>\n",
       "    <tr>\n",
       "      <td>168</td>\n",
       "      <td>tt2467046</td>\n",
       "      <td>16000000</td>\n",
       "      <td>19682924</td>\n",
       "      <td>Left Behind</td>\n",
       "      <td>[Nicolas Cage, Chad Michael Murray, Lea Thomps...</td>\n",
       "      <td>[Vic Armstrong]</td>\n",
       "      <td>The End Begins</td>\n",
       "      <td>A small group of survivors are left behind aft...</td>\n",
       "      <td>110</td>\n",
       "      <td>[Thriller, Action, Science Fiction]</td>\n",
       "      <td>[Stoney Lake Entertainment]</td>\n",
       "      <td>[10, 3, 2014]</td>\n",
       "      <td>3.8</td>\n",
       "      <td>2014</td>\n",
       "      <td>3682924</td>\n",
       "      <td>10</td>\n",
       "      <td>11</td>\n",
       "      <td>155</td>\n",
       "    </tr>\n",
       "    <tr>\n",
       "      <td>1404</td>\n",
       "      <td>tt0383222</td>\n",
       "      <td>25000000</td>\n",
       "      <td>2405420</td>\n",
       "      <td>BloodRayne</td>\n",
       "      <td>[Kristanna Loken, Ben Kingsley, Michelle Rodri...</td>\n",
       "      <td>[Uwe Boll]</td>\n",
       "      <td>Revenge never tasted so sweet.</td>\n",
       "      <td>In eighteenth century Romania, Rayne, a dhampi...</td>\n",
       "      <td>95</td>\n",
       "      <td>[Action, Adventure, Fantasy, Horror]</td>\n",
       "      <td>[Boll KG]</td>\n",
       "      <td>[10, 22, 2005]</td>\n",
       "      <td>3.8</td>\n",
       "      <td>2005</td>\n",
       "      <td>-22594580</td>\n",
       "      <td>10</td>\n",
       "      <td>10</td>\n",
       "      <td>334</td>\n",
       "    </tr>\n",
       "    <tr>\n",
       "      <td>1156</td>\n",
       "      <td>tt0299930</td>\n",
       "      <td>54000000</td>\n",
       "      <td>7266209</td>\n",
       "      <td>Gigli</td>\n",
       "      <td>[Ben Affleck, Jennifer Lopez, Justin Bartha, L...</td>\n",
       "      <td>[Martin Brest]</td>\n",
       "      <td>Life doesn't play by the rules.</td>\n",
       "      <td>Gigli is ordered to kidnap the psychologically...</td>\n",
       "      <td>121</td>\n",
       "      <td>[Drama]</td>\n",
       "      <td>[City Light Films, Revolution Studios, Casey S...</td>\n",
       "      <td>[8, 1, 2003]</td>\n",
       "      <td>3.8</td>\n",
       "      <td>2003</td>\n",
       "      <td>-46733791</td>\n",
       "      <td>8</td>\n",
       "      <td>5</td>\n",
       "      <td>363</td>\n",
       "    </tr>\n",
       "    <tr>\n",
       "      <td>1512</td>\n",
       "      <td>tt0466342</td>\n",
       "      <td>20000000</td>\n",
       "      <td>48548426</td>\n",
       "      <td>Date Movie</td>\n",
       "      <td>[Alyson Hannigan, Adam Campbell, Sophie Monk, ...</td>\n",
       "      <td>[Aaron Seltzer, Jason Friedberg]</td>\n",
       "      <td>An Unprotected Comedy</td>\n",
       "      <td>Spoof of romantic comedies which focuses on a ...</td>\n",
       "      <td>83</td>\n",
       "      <td>[Comedy]</td>\n",
       "      <td>[Regency Enterprises, Epsilon Motion Pictures,...</td>\n",
       "      <td>[2, 17, 2006]</td>\n",
       "      <td>3.9</td>\n",
       "      <td>2006</td>\n",
       "      <td>28548426</td>\n",
       "      <td>2</td>\n",
       "      <td>10</td>\n",
       "      <td>142</td>\n",
       "    </tr>\n",
       "    <tr>\n",
       "      <td>1880</td>\n",
       "      <td>tt0190374</td>\n",
       "      <td>35000000</td>\n",
       "      <td>15185241</td>\n",
       "      <td>Dungeons &amp; Dragons</td>\n",
       "      <td>[Justin Whalin, Jeremy Irons, Thora Birch, Bru...</td>\n",
       "      <td>[Courtney Solomon]</td>\n",
       "      <td>This is no game.</td>\n",
       "      <td>The classic role-playing game comes to life in...</td>\n",
       "      <td>107</td>\n",
       "      <td>[Action, Adventure, Fantasy, Science Fiction]</td>\n",
       "      <td>[New Line Cinema, Silver Pictures, Sweetpea En...</td>\n",
       "      <td>[12, 8, 2000]</td>\n",
       "      <td>3.9</td>\n",
       "      <td>2000</td>\n",
       "      <td>-19814759</td>\n",
       "      <td>12</td>\n",
       "      <td>18</td>\n",
       "      <td>365</td>\n",
       "    </tr>\n",
       "    <tr>\n",
       "      <td>590</td>\n",
       "      <td>tt0166276</td>\n",
       "      <td>75000000</td>\n",
       "      <td>5409517</td>\n",
       "      <td>Monkeybone</td>\n",
       "      <td>[Brendan Fraser, Bridget Fonda, John Turturro,...</td>\n",
       "      <td>[Henry Selick]</td>\n",
       "      <td>If It Yells, If It Swings, It's Got To Be Monk...</td>\n",
       "      <td>After a car crash sends repressed cartoonist S...</td>\n",
       "      <td>93</td>\n",
       "      <td>[Adventure, Fantasy, Animation, Action, Comedy]</td>\n",
       "      <td>[20th Century Fox, 1492 Pictures]</td>\n",
       "      <td>[2, 23, 2001]</td>\n",
       "      <td>4.0</td>\n",
       "      <td>2001</td>\n",
       "      <td>-69590483</td>\n",
       "      <td>2</td>\n",
       "      <td>10</td>\n",
       "      <td>366</td>\n",
       "    </tr>\n",
       "    <tr>\n",
       "      <td>688</td>\n",
       "      <td>tt1073498</td>\n",
       "      <td>30000000</td>\n",
       "      <td>84646831</td>\n",
       "      <td>Meet the Spartans</td>\n",
       "      <td>[Sean Maguire, Carmen Electra, Ken Davitian, K...</td>\n",
       "      <td>[Jason Friedberg, Aaron Seltzer]</td>\n",
       "      <td>The Bigger the Hit, The Harder They Fall</td>\n",
       "      <td>From the creators of Scary Movie and Date Movi...</td>\n",
       "      <td>84</td>\n",
       "      <td>[Comedy]</td>\n",
       "      <td>[Regency Enterprises, New Regency Pictures]</td>\n",
       "      <td>[1, 24, 2008]</td>\n",
       "      <td>4.0</td>\n",
       "      <td>2008</td>\n",
       "      <td>54646831</td>\n",
       "      <td>1</td>\n",
       "      <td>17</td>\n",
       "      <td>399</td>\n",
       "    </tr>\n",
       "    <tr>\n",
       "      <td>1886</td>\n",
       "      <td>tt0131704</td>\n",
       "      <td>76000000</td>\n",
       "      <td>35134820</td>\n",
       "      <td>The Adventures of Rocky &amp; Bullwinkle</td>\n",
       "      <td>[Rene Russo, Jason Alexander, Piper Perabo, Ra...</td>\n",
       "      <td>[Des McAnuff]</td>\n",
       "      <td>This summer it's not the same old bull.</td>\n",
       "      <td>Rocky and Bullwinkle have been living off the ...</td>\n",
       "      <td>88</td>\n",
       "      <td>[Adventure, Animation, Action, Comedy, Family]</td>\n",
       "      <td>[Universal Pictures, Capella International, KC...</td>\n",
       "      <td>[6, 30, 2000]</td>\n",
       "      <td>4.0</td>\n",
       "      <td>2000</td>\n",
       "      <td>-40865180</td>\n",
       "      <td>6</td>\n",
       "      <td>36</td>\n",
       "      <td>337</td>\n",
       "    </tr>\n",
       "    <tr>\n",
       "      <td>596</td>\n",
       "      <td>tt0166110</td>\n",
       "      <td>10000000</td>\n",
       "      <td>7316658</td>\n",
       "      <td>Bones</td>\n",
       "      <td>[Snoop Dogg, Pam Grier, Michael T. Weiss, Clif...</td>\n",
       "      <td>[Ernest R. Dickerson]</td>\n",
       "      <td>This Halloween, unleash the Dogg.</td>\n",
       "      <td>Over 20 years after his death by a gunshot, Ji...</td>\n",
       "      <td>96</td>\n",
       "      <td>[Action, Horror, Thriller]</td>\n",
       "      <td>[New Line Cinema]</td>\n",
       "      <td>[10, 24, 2001]</td>\n",
       "      <td>4.0</td>\n",
       "      <td>2001</td>\n",
       "      <td>-2683342</td>\n",
       "      <td>10</td>\n",
       "      <td>5</td>\n",
       "      <td>152</td>\n",
       "    </tr>\n",
       "    <tr>\n",
       "      <td>355</td>\n",
       "      <td>tt0891592</td>\n",
       "      <td>50000000</td>\n",
       "      <td>12764201</td>\n",
       "      <td>Street Fighter: The Legend of Chun-Li</td>\n",
       "      <td>[Kristin Kreuk, Chris Klein, Neal McDonough, M...</td>\n",
       "      <td>[Andrzej Bartkowiak]</td>\n",
       "      <td>Some fight for power. Some fight for us.</td>\n",
       "      <td>When a teenager, Chun-Li witnesses the kidnapp...</td>\n",
       "      <td>97</td>\n",
       "      <td>[Action, Adventure, Science Fiction, Thriller]</td>\n",
       "      <td>[Twentieth Century Fox Film Corporation, Hyde ...</td>\n",
       "      <td>[2, 27, 2009]</td>\n",
       "      <td>4.1</td>\n",
       "      <td>2009</td>\n",
       "      <td>-37235799</td>\n",
       "      <td>2</td>\n",
       "      <td>37</td>\n",
       "      <td>219</td>\n",
       "    </tr>\n",
       "    <tr>\n",
       "      <td>782</td>\n",
       "      <td>tt0810913</td>\n",
       "      <td>79000000</td>\n",
       "      <td>149673788</td>\n",
       "      <td>Jack and Jill</td>\n",
       "      <td>[Adam Sandler, Katie Holmes, Al Pacino, Eugeni...</td>\n",
       "      <td>[Dennis Dugan]</td>\n",
       "      <td>His twin sister is coming for the holidays... ...</td>\n",
       "      <td>Jack Sadelstein, a successful advertising exec...</td>\n",
       "      <td>91</td>\n",
       "      <td>[Comedy]</td>\n",
       "      <td>[Columbia Pictures, Happy Madison Productions,...</td>\n",
       "      <td>[11, 11, 2011]</td>\n",
       "      <td>4.2</td>\n",
       "      <td>2011</td>\n",
       "      <td>70673788</td>\n",
       "      <td>11</td>\n",
       "      <td>13</td>\n",
       "      <td>288</td>\n",
       "    </tr>\n",
       "    <tr>\n",
       "      <td>1050</td>\n",
       "      <td>tt1714203</td>\n",
       "      <td>5000000</td>\n",
       "      <td>8493728</td>\n",
       "      <td>Piranha 3DD</td>\n",
       "      <td>[Danielle Panabaker, Matt Bush, Katrina Bowden...</td>\n",
       "      <td>[John Gulager]</td>\n",
       "      <td>Twice the Teeth. Twice the Terror.</td>\n",
       "      <td>After the events at Lake Victoria, the prehist...</td>\n",
       "      <td>83</td>\n",
       "      <td>[Horror, Thriller, Comedy]</td>\n",
       "      <td>[Dimension Films, Mark Canton Productions, Int...</td>\n",
       "      <td>[5, 11, 2012]</td>\n",
       "      <td>4.2</td>\n",
       "      <td>2012</td>\n",
       "      <td>3493728</td>\n",
       "      <td>5</td>\n",
       "      <td>11</td>\n",
       "      <td>160</td>\n",
       "    </tr>\n",
       "  </tbody>\n",
       "</table>\n",
       "</div>"
      ],
      "text/plain": [
       "        imdb_id    budget    revenue                         original_title  \\\n",
       "709   tt1213644  25000000   14109284                         Disaster Movie   \n",
       "965   tt0295254  40000000   18902015                             FearDotCom   \n",
       "1161  tt0317676   7000000   13818181                      House of the Dead   \n",
       "1760  tt0799949  20000000   86865564                             Epic Movie   \n",
       "1175  tt0339034  12000000    4922166                   From Justin to Kelly   \n",
       "1424  tt0369226  20000000   10442808                      Alone in the Dark   \n",
       "1742  tt0897361  12000000    9620399                   I Know Who Killed Me   \n",
       "168   tt2467046  16000000   19682924                            Left Behind   \n",
       "1404  tt0383222  25000000    2405420                             BloodRayne   \n",
       "1156  tt0299930  54000000    7266209                                  Gigli   \n",
       "1512  tt0466342  20000000   48548426                             Date Movie   \n",
       "1880  tt0190374  35000000   15185241                     Dungeons & Dragons   \n",
       "590   tt0166276  75000000    5409517                             Monkeybone   \n",
       "688   tt1073498  30000000   84646831                      Meet the Spartans   \n",
       "1886  tt0131704  76000000   35134820   The Adventures of Rocky & Bullwinkle   \n",
       "596   tt0166110  10000000    7316658                                  Bones   \n",
       "355   tt0891592  50000000   12764201  Street Fighter: The Legend of Chun-Li   \n",
       "782   tt0810913  79000000  149673788                          Jack and Jill   \n",
       "1050  tt1714203   5000000    8493728                            Piranha 3DD   \n",
       "\n",
       "                                                   cast  \\\n",
       "709   [Matt Lanter, Vanessa Lachey, Nicole Ari Parke...   \n",
       "965   [Stephen Dorff, Natascha McElhone, Stephen Rea...   \n",
       "1161  [Jonathan Cherry, Tyron Leitso, Clint Howard, ...   \n",
       "1760  [Kal Penn, Adam Campbell, Jennifer Coolidge, J...   \n",
       "1175  [Kelly Clarkson, Justin Guarini , Brandon Hens...   \n",
       "1424  [Christian Slater, Tara Reid, Stephen Dorff, F...   \n",
       "1742  [Lindsay Lohan, Julia Ormond, Neal McDonough, ...   \n",
       "168   [Nicolas Cage, Chad Michael Murray, Lea Thomps...   \n",
       "1404  [Kristanna Loken, Ben Kingsley, Michelle Rodri...   \n",
       "1156  [Ben Affleck, Jennifer Lopez, Justin Bartha, L...   \n",
       "1512  [Alyson Hannigan, Adam Campbell, Sophie Monk, ...   \n",
       "1880  [Justin Whalin, Jeremy Irons, Thora Birch, Bru...   \n",
       "590   [Brendan Fraser, Bridget Fonda, John Turturro,...   \n",
       "688   [Sean Maguire, Carmen Electra, Ken Davitian, K...   \n",
       "1886  [Rene Russo, Jason Alexander, Piper Perabo, Ra...   \n",
       "596   [Snoop Dogg, Pam Grier, Michael T. Weiss, Clif...   \n",
       "355   [Kristin Kreuk, Chris Klein, Neal McDonough, M...   \n",
       "782   [Adam Sandler, Katie Holmes, Al Pacino, Eugeni...   \n",
       "1050  [Danielle Panabaker, Matt Bush, Katrina Bowden...   \n",
       "\n",
       "                              director  \\\n",
       "709   [Jason Friedberg, Aaron Seltzer]   \n",
       "965                   [William Malone]   \n",
       "1161                        [Uwe Boll]   \n",
       "1760  [Jason Friedberg, Aaron Seltzer]   \n",
       "1175                   [Robert Iscove]   \n",
       "1424                        [Uwe Boll]   \n",
       "1742                 [Chris Sivertson]   \n",
       "168                    [Vic Armstrong]   \n",
       "1404                        [Uwe Boll]   \n",
       "1156                    [Martin Brest]   \n",
       "1512  [Aaron Seltzer, Jason Friedberg]   \n",
       "1880                [Courtney Solomon]   \n",
       "590                     [Henry Selick]   \n",
       "688   [Jason Friedberg, Aaron Seltzer]   \n",
       "1886                     [Des McAnuff]   \n",
       "596              [Ernest R. Dickerson]   \n",
       "355               [Andrzej Bartkowiak]   \n",
       "782                     [Dennis Dugan]   \n",
       "1050                    [John Gulager]   \n",
       "\n",
       "                                                tagline  \\\n",
       "709     Your favorite movies are going to be destroyed.   \n",
       "965                      The last site you'll ever see.   \n",
       "1161                          You won't last the night.   \n",
       "1760                     We know it's big. We measured.   \n",
       "1175                    The tale of two American Idols.   \n",
       "1424  Can mankind defeat the army of darkness unleas...   \n",
       "1742                There are two sides to every crime.   \n",
       "168                                      The End Begins   \n",
       "1404                     Revenge never tasted so sweet.   \n",
       "1156                    Life doesn't play by the rules.   \n",
       "1512                              An Unprotected Comedy   \n",
       "1880                                   This is no game.   \n",
       "590   If It Yells, If It Swings, It's Got To Be Monk...   \n",
       "688            The Bigger the Hit, The Harder They Fall   \n",
       "1886            This summer it's not the same old bull.   \n",
       "596                   This Halloween, unleash the Dogg.   \n",
       "355            Some fight for power. Some fight for us.   \n",
       "782   His twin sister is coming for the holidays... ...   \n",
       "1050                 Twice the Teeth. Twice the Terror.   \n",
       "\n",
       "                                               overview  runtime  \\\n",
       "709   In DISASTER MOVIE, the filmmaking team behind ...       87   \n",
       "965   With four corpses on his hands, New York City ...      101   \n",
       "1161  Set on an island off the coast, a techno rave ...       90   \n",
       "1760  When Edward, Peter, Lucy and Susan each follow...       86   \n",
       "1175  A lonely, sexually repressed man. A depressed ...       90   \n",
       "1424  Edward Carnby is a private investigator specia...       96   \n",
       "1742  An idyllic small town is rocked when Aubrey Fl...      105   \n",
       "168   A small group of survivors are left behind aft...      110   \n",
       "1404  In eighteenth century Romania, Rayne, a dhampi...       95   \n",
       "1156  Gigli is ordered to kidnap the psychologically...      121   \n",
       "1512  Spoof of romantic comedies which focuses on a ...       83   \n",
       "1880  The classic role-playing game comes to life in...      107   \n",
       "590   After a car crash sends repressed cartoonist S...       93   \n",
       "688   From the creators of Scary Movie and Date Movi...       84   \n",
       "1886  Rocky and Bullwinkle have been living off the ...       88   \n",
       "596   Over 20 years after his death by a gunshot, Ji...       96   \n",
       "355   When a teenager, Chun-Li witnesses the kidnapp...       97   \n",
       "782   Jack Sadelstein, a successful advertising exec...       91   \n",
       "1050  After the events at Lake Victoria, the prehist...       83   \n",
       "\n",
       "                                               genres  \\\n",
       "709                                  [Action, Comedy]   \n",
       "965                                [Horror, Thriller]   \n",
       "1161                       [Horror, Action, Thriller]   \n",
       "1760                      [Action, Adventure, Comedy]   \n",
       "1175                                [Comedy, Romance]   \n",
       "1424              [Action, Fantasy, Horror, Thriller]   \n",
       "1742               [Crime, Horror, Mystery, Thriller]   \n",
       "168               [Thriller, Action, Science Fiction]   \n",
       "1404             [Action, Adventure, Fantasy, Horror]   \n",
       "1156                                          [Drama]   \n",
       "1512                                         [Comedy]   \n",
       "1880    [Action, Adventure, Fantasy, Science Fiction]   \n",
       "590   [Adventure, Fantasy, Animation, Action, Comedy]   \n",
       "688                                          [Comedy]   \n",
       "1886   [Adventure, Animation, Action, Comedy, Family]   \n",
       "596                        [Action, Horror, Thriller]   \n",
       "355    [Action, Adventure, Science Fiction, Thriller]   \n",
       "782                                          [Comedy]   \n",
       "1050                       [Horror, Thriller, Comedy]   \n",
       "\n",
       "                                   production_companies    release_date  \\\n",
       "709   [Grosvenor Park Media Ltd., LionsGate, 3 in th...   [8, 29, 2008]   \n",
       "965   [Milagro Films, Franchise Pictures, DoRo Ficti...    [8, 9, 2002]   \n",
       "1161  [Boll Kino Beteiligungs GmbH & Co. KG, Brightl...   [4, 11, 2003]   \n",
       "1760  [Twentieth Century Fox Film Corporation, Regen...   [1, 25, 2007]   \n",
       "1175                                 [20th Century Fox]   [6, 20, 2003]   \n",
       "1424  [Boll Kino Beteiligungs GmbH & Co. KG, Brightl...   [1, 28, 2005]   \n",
       "1742                   [TriStar Pictures, 360 Pictures]   [7, 27, 2007]   \n",
       "168                         [Stoney Lake Entertainment]   [10, 3, 2014]   \n",
       "1404                                          [Boll KG]  [10, 22, 2005]   \n",
       "1156  [City Light Films, Revolution Studios, Casey S...    [8, 1, 2003]   \n",
       "1512  [Regency Enterprises, Epsilon Motion Pictures,...   [2, 17, 2006]   \n",
       "1880  [New Line Cinema, Silver Pictures, Sweetpea En...   [12, 8, 2000]   \n",
       "590                   [20th Century Fox, 1492 Pictures]   [2, 23, 2001]   \n",
       "688         [Regency Enterprises, New Regency Pictures]   [1, 24, 2008]   \n",
       "1886  [Universal Pictures, Capella International, KC...   [6, 30, 2000]   \n",
       "596                                   [New Line Cinema]  [10, 24, 2001]   \n",
       "355   [Twentieth Century Fox Film Corporation, Hyde ...   [2, 27, 2009]   \n",
       "782   [Columbia Pictures, Happy Madison Productions,...  [11, 11, 2011]   \n",
       "1050  [Dimension Films, Mark Canton Productions, Int...   [5, 11, 2012]   \n",
       "\n",
       "      vote_average  release_year    profit  release_month  original_title_len  \\\n",
       "709            3.3          2008 -10890716              8                  14   \n",
       "965            3.3          2002 -21097985              8                  10   \n",
       "1161           3.4          2003   6818181              4                  17   \n",
       "1760           3.4          2007  66865564              1                  10   \n",
       "1175           3.5          2003  -7077834              6                  20   \n",
       "1424           3.5          2005  -9557192              1                  17   \n",
       "1742           3.8          2007  -2379601              7                  20   \n",
       "168            3.8          2014   3682924             10                  11   \n",
       "1404           3.8          2005 -22594580             10                  10   \n",
       "1156           3.8          2003 -46733791              8                   5   \n",
       "1512           3.9          2006  28548426              2                  10   \n",
       "1880           3.9          2000 -19814759             12                  18   \n",
       "590            4.0          2001 -69590483              2                  10   \n",
       "688            4.0          2008  54646831              1                  17   \n",
       "1886           4.0          2000 -40865180              6                  36   \n",
       "596            4.0          2001  -2683342             10                   5   \n",
       "355            4.1          2009 -37235799              2                  37   \n",
       "782            4.2          2011  70673788             11                  13   \n",
       "1050           4.2          2012   3493728              5                  11   \n",
       "\n",
       "      overview_len  \n",
       "709            250  \n",
       "965            446  \n",
       "1161           375  \n",
       "1760           400  \n",
       "1175           142  \n",
       "1424           314  \n",
       "1742           355  \n",
       "168            155  \n",
       "1404           334  \n",
       "1156           363  \n",
       "1512           142  \n",
       "1880           365  \n",
       "590            366  \n",
       "688            399  \n",
       "1886           337  \n",
       "596            152  \n",
       "355            219  \n",
       "782            288  \n",
       "1050           160  "
      ]
     },
     "execution_count": 80,
     "metadata": {},
     "output_type": "execute_result"
    }
   ],
   "source": [
    "best_movies = int(round(data.imdb_id.nunique()*0.01, 0))\n",
    "print(best_movies)\n",
    "data.sort_values(by = 'vote_average').head(best_movies)"
   ]
  },
  {
   "cell_type": "code",
   "execution_count": 82,
   "metadata": {},
   "outputs": [],
   "source": [
    "answers['26'] = '1. Inside Out, The Dark Knight, 12 Years a Slave'"
   ]
  },
  {
   "cell_type": "markdown",
   "metadata": {
    "colab_type": "text",
    "id": "MdXsUXbCVqAV"
   },
   "source": [
    "# 27. Какие актеры чаще всего снимаются в одном фильме вместе?\n"
   ]
  },
  {
   "cell_type": "code",
   "execution_count": 357,
   "metadata": {},
   "outputs": [
    {
     "name": "stdout",
     "output_type": "stream",
     "text": [
      "('Daniel Radcliffe', 'Rupert Grint') 8\n",
      "('Daniel Radcliffe', 'Emma Watson') 8\n",
      "('Rupert Grint', 'Emma Watson') 8\n"
     ]
    }
   ],
   "source": [
    "cast_list = []\n",
    "pairs_dict = {}\n",
    "actor1_num = 0\n",
    "actor2_num = 1\n",
    "pair = (actor1, actor2)\n",
    "pairs_duplicate = (actor2, actor1)\n",
    "\n",
    "for movies in data.cast:\n",
    "    cast_list.append(movies)\n",
    "    \n",
    "for movie_cast in cast_list:\n",
    "    actor1_num = 0\n",
    "    actor2_num = 1\n",
    "    for actor in movie_cast:\n",
    "        for actor in movie_cast:\n",
    "            while actor2_num < len(movie_cast):\n",
    "                actor1 = movie_cast[actor1_num]\n",
    "                actor2 = movie_cast[actor2_num]\n",
    "                pair = (actor1, actor2)\n",
    "                pairs_duplicate = (actor2, actor1)\n",
    "                actor2_num +=1\n",
    "                if pair not in pairs_dict.keys():\n",
    "                    if pairs_duplicate not in pairs_dict.keys():\n",
    "                        pairs_dict[pair] = 1\n",
    "                    else:\n",
    "                        pairs_dict[pairs_duplicate] += 1\n",
    "                else:\n",
    "                    pairs_dict[pair] += 1\n",
    "            else:\n",
    "                break\n",
    "        actor1_num +=1\n",
    "        actor2_num = actor1_num +1\n",
    "\n",
    "for pair, number in pairs_dict.items():\n",
    "    if number == max(pairs_dict.values()):\n",
    "        print(pair, number)"
   ]
  },
  {
   "cell_type": "code",
   "execution_count": 351,
   "metadata": {},
   "outputs": [],
   "source": [
    "answers['27'] = '5. Daniel Radcliffe & Rupert Grint'"
   ]
  },
  {
   "cell_type": "markdown",
   "metadata": {
    "colab_type": "text",
    "id": "4ymnxEVoVqAW"
   },
   "source": [
    "ВАРИАНТ 2"
   ]
  },
  {
   "cell_type": "code",
   "execution_count": null,
   "metadata": {},
   "outputs": [],
   "source": []
  },
  {
   "cell_type": "markdown",
   "metadata": {
    "colab_type": "text",
    "id": "U0nONFnGVqAX"
   },
   "source": [
    "# Submission"
   ]
  },
  {
   "cell_type": "code",
   "execution_count": 352,
   "metadata": {
    "colab": {},
    "colab_type": "code",
    "id": "IfcaRO9-VqAX",
    "outputId": "0f132912-32bb-4196-c98c-abfbc4ad5a5f"
   },
   "outputs": [
    {
     "data": {
      "text/plain": [
       "{'1': '5. Pirates of the Caribbean: On Stranger Tides (tt1298650)',\n",
       " '2': '2. Gods and Generals (tt0279111)',\n",
       " '3': '3. Winnie the Pooh (tt1449283)',\n",
       " '4': '2. 110',\n",
       " '5': '1. 107',\n",
       " '6': '5. Avatar (tt0499549)',\n",
       " '7': '5. The Lone Ranger (tt1210819)',\n",
       " '8': '1. 1478',\n",
       " '9': '4. The Dark Knight (tt0468569)',\n",
       " '10': '5. The Lone Ranger (tt1210819)',\n",
       " '11': '3. Drama',\n",
       " '12': '1. Drama',\n",
       " '13': '5. Peter Jackson',\n",
       " '14': '3. Robert Rodriguez',\n",
       " '15': '3. Chris Hemsworth',\n",
       " '16': '3. Matt Damon',\n",
       " '17': '2. Action',\n",
       " '18': '1. K-19: The Widowmaker (tt0267626)',\n",
       " '19': '5. 2015',\n",
       " '20': '1. 2014',\n",
       " '21': '4. Сентябрь',\n",
       " '22': '2. 450',\n",
       " '23': '5. Peter Jackson',\n",
       " '24': '5. Four By Two Productions',\n",
       " '25': '3. Midnight Picture Show',\n",
       " '26': '1. Inside Out, The Dark Knight, 12 Years a Slave',\n",
       " '27': '5. Daniel Radcliffe & Rupert Grint'}"
      ]
     },
     "execution_count": 352,
     "metadata": {},
     "output_type": "execute_result"
    }
   ],
   "source": [
    "# в конце можно посмотреть свои ответы к каждому вопросу\n",
    "answers"
   ]
  },
  {
   "cell_type": "code",
   "execution_count": 353,
   "metadata": {
    "colab": {},
    "colab_type": "code",
    "id": "SiRmHPl8VqAd"
   },
   "outputs": [
    {
     "data": {
      "text/plain": [
       "27"
      ]
     },
     "execution_count": 353,
     "metadata": {},
     "output_type": "execute_result"
    }
   ],
   "source": [
    "# и убедиться что ни чего не пропустил)\n",
    "len(answers)"
   ]
  }
 ],
 "metadata": {
  "colab": {
   "name": "Copy of [SF-DST] Movies IMBD v4.1 TEMPLATE.ipynb",
   "provenance": []
  },
  "kernelspec": {
   "display_name": "Python 3",
   "language": "python",
   "name": "python3"
  },
  "language_info": {
   "codemirror_mode": {
    "name": "ipython",
    "version": 3
   },
   "file_extension": ".py",
   "mimetype": "text/x-python",
   "name": "python",
   "nbconvert_exporter": "python",
   "pygments_lexer": "ipython3",
   "version": "3.7.4"
  }
 },
 "nbformat": 4,
 "nbformat_minor": 1
}
